{
  "cells": [
    {
      "cell_type": "markdown",
      "id": "j2NJICCjuugx",
      "metadata": {
        "id": "j2NJICCjuugx"
      },
      "source": [
        "# Decision Trees, Random Forest and XGBoost, Stacked Ensembles models, and Augluon"
      ]
    },
    {
      "cell_type": "markdown",
      "id": "wH9_D0Oyuugx",
      "metadata": {
        "id": "wH9_D0Oyuugx"
      },
      "source": [
        "Let's import the libraries you will use."
      ]
    },
    {
      "cell_type": "code",
      "execution_count": 1,
      "id": "QNFexSJ_QEix",
      "metadata": {
        "colab": {
          "base_uri": "https://localhost:8080/"
        },
        "id": "QNFexSJ_QEix",
        "outputId": "dd584368-dedf-4dd3-a634-8e77a1b2104c"
      },
      "outputs": [
        {
          "name": "stderr",
          "output_type": "stream",
          "text": [
            "\"wget\" no se reconoce como un comando interno o externo,\n",
            "programa o archivo por lotes ejecutable.\n"
          ]
        },
        {
          "name": "stderr",
          "output_type": "stream",
          "text": [
            "\"wget\" no se reconoce como un comando interno o externo,\n",
            "programa o archivo por lotes ejecutable.\n",
            "  % Total    % Received % Xferd  Average Speed   Time    Time     Time  Current\n",
            "                                 Dload  Upload   Total   Spent    Left  Speed\n",
            "\n",
            "  0     0    0     0    0     0      0      0 --:--:-- --:--:-- --:--:--     0\n",
            "100  5013  100  5013    0     0  10108      0 --:--:-- --:--:-- --:--:-- 10127\n",
            "100  5013  100  5013    0     0  10105      0 --:--:-- --:--:-- --:--:-- 10127\n",
            "  % Total    % Received % Xferd  Average Speed   Time    Time     Time  Current\n",
            "                                 Dload  Upload   Total   Spent    Left  Speed\n",
            "\n",
            "  0     0    0     0    0     0      0      0 --:--:-- --:--:-- --:--:--     0\n",
            "100 35921  100 35921    0     0   130k      0 --:--:-- --:--:-- --:--:--  131k\n"
          ]
        }
      ],
      "source": [
        "!wget https://raw.githubusercontent.com/mtgca/datasets_public/main/deeplearning.mplstyle\n",
        "!wget https://raw.githubusercontent.com/mtgca/datasets_public/main/heart.csv\n",
        "!curl -O https://raw.githubusercontent.com/mtgca/datasets_public/main/deeplearning.mplstyle\n",
        "!curl -O https://raw.githubusercontent.com/mtgca/datasets_public/main/heart.csv"
      ]
    },
    {
      "cell_type": "code",
      "execution_count": 2,
      "id": "EUIFf63yuugy",
      "metadata": {
        "id": "EUIFf63yuugy"
      },
      "outputs": [
        {
          "name": "stderr",
          "output_type": "stream",
          "text": [
            "\n",
            "[notice] A new release of pip is available: 24.0 -> 25.1.1\n",
            "[notice] To update, run: python.exe -m pip install --upgrade pip\n"
          ]
        }
      ],
      "source": [
        "import numpy as np\n",
        "import pandas as pd\n",
        "from sklearn.tree import DecisionTreeClassifier\n",
        "from sklearn.ensemble import RandomForestClassifier\n",
        "from sklearn.model_selection import train_test_split\n",
        "from sklearn.metrics import accuracy_score\n",
        "! pip install xgboost --quiet\n",
        "import xgboost\n",
        "from xgboost import XGBClassifier\n",
        "import matplotlib.pyplot as plt\n",
        "plt.style.use('./deeplearning.mplstyle')\n",
        "\n",
        "RANDOM_STATE = 55 ## You will pass it to every sklearn call so we ensure reproducibility"
      ]
    },
    {
      "cell_type": "markdown",
      "id": "DkWVR2zFuugy",
      "metadata": {
        "id": "DkWVR2zFuugy"
      },
      "source": [
        "# 1. Loading the Dataset"
      ]
    },
    {
      "cell_type": "markdown",
      "id": "53NwBoL7uugz",
      "metadata": {
        "id": "53NwBoL7uugz"
      },
      "source": [
        "From [Kaggle](https://www.kaggle.com/datasets/fedesoriano/heart-failure-prediction)\n",
        "\n",
        "Context\n",
        "Cardiovascular diseases (CVDs) are the number 1 cause of death globally, taking an estimated 17.9 million lives each year, which accounts for 31% of all deaths worldwide. Heart failure is a common event caused by CVDs and this dataset contains 11 features that can be used to predict a possible heart disease.\n",
        "\n",
        "People with cardiovascular disease or who are at high cardiovascular risk need early detection and management wherein a machine learning model can be of great help.\n",
        "\n",
        "You will develop models to predict how likely a particular person is in developint cardiovascular disease, given all the information below.\n",
        "\n",
        "#### Attribute Information\n",
        "- Age: age of the patient [years]\n",
        "- Sex: sex of the patient [M: Male, F: Female]\n",
        "- ChestPainType: chest pain type [TA: Typical Angina, ATA: Atypical Angina, NAP: Non-Anginal Pain, ASY: Asymptomatic]\n",
        "- RestingBP: resting blood pressure [mm Hg]\n",
        "- Cholesterol: serum cholesterol [mm/dl]\n",
        "- FastingBS: fasting blood sugar [1: if FastingBS > 120 mg/dl, 0: otherwise]\n",
        "- RestingECG: resting electrocardiogram results [Normal: Normal, ST: having ST-T wave abnormality (T wave inversions and/or ST elevation or depression of > 0.05 mV), LVH: showing probable or definite left ventricular hypertrophy by Estes' criteria]\n",
        "- MaxHR: maximum heart rate achieved [Numeric value between 60 and 202]\n",
        "- ExerciseAngina: exercise-induced angina [Y: Yes, N: No]\n",
        "- Oldpeak: oldpeak = ST [Numeric value measured in depression]\n",
        "- ST_Slope: the slope of the peak exercise ST segment [Up: upsloping, Flat: flat, Down: downsloping]\n",
        "- HeartDisease: output class [1: heart disease, 0: Normal]"
      ]
    },
    {
      "cell_type": "markdown",
      "id": "ZCFU_tdNuugz",
      "metadata": {
        "id": "ZCFU_tdNuugz"
      },
      "source": [
        "Let's now load the dataset. As you can see above, the variables:\n",
        "\n",
        "- Sex\n",
        "- ChestPainType\n",
        "- RestingECG\n",
        "- ExerciseAngina\n",
        "- ST_Slope\n",
        "\n",
        "Are *categorical*, so you must one-hot encode them."
      ]
    },
    {
      "cell_type": "code",
      "execution_count": 3,
      "id": "k4O2r3jcuugz",
      "metadata": {
        "id": "k4O2r3jcuugz"
      },
      "outputs": [],
      "source": [
        "# Load the dataset using pandas\n",
        "df = pd.read_csv(\"heart.csv\")"
      ]
    },
    {
      "cell_type": "code",
      "execution_count": 4,
      "id": "5GVDhUhuuugz",
      "metadata": {
        "colab": {
          "base_uri": "https://localhost:8080/",
          "height": 221
        },
        "id": "5GVDhUhuuugz",
        "outputId": "1d1698d7-3fc1-4523-d553-e27265ff2373"
      },
      "outputs": [
        {
          "data": {
            "text/html": [
              "<div>\n",
              "<style scoped>\n",
              "    .dataframe tbody tr th:only-of-type {\n",
              "        vertical-align: middle;\n",
              "    }\n",
              "\n",
              "    .dataframe tbody tr th {\n",
              "        vertical-align: top;\n",
              "    }\n",
              "\n",
              "    .dataframe thead th {\n",
              "        text-align: right;\n",
              "    }\n",
              "</style>\n",
              "<table border=\"1\" class=\"dataframe\">\n",
              "  <thead>\n",
              "    <tr style=\"text-align: right;\">\n",
              "      <th></th>\n",
              "      <th>Age</th>\n",
              "      <th>Sex</th>\n",
              "      <th>ChestPainType</th>\n",
              "      <th>RestingBP</th>\n",
              "      <th>Cholesterol</th>\n",
              "      <th>FastingBS</th>\n",
              "      <th>RestingECG</th>\n",
              "      <th>MaxHR</th>\n",
              "      <th>ExerciseAngina</th>\n",
              "      <th>Oldpeak</th>\n",
              "      <th>ST_Slope</th>\n",
              "      <th>HeartDisease</th>\n",
              "    </tr>\n",
              "  </thead>\n",
              "  <tbody>\n",
              "    <tr>\n",
              "      <th>0</th>\n",
              "      <td>40</td>\n",
              "      <td>M</td>\n",
              "      <td>ATA</td>\n",
              "      <td>140</td>\n",
              "      <td>289</td>\n",
              "      <td>0</td>\n",
              "      <td>Normal</td>\n",
              "      <td>172</td>\n",
              "      <td>N</td>\n",
              "      <td>0.0</td>\n",
              "      <td>Up</td>\n",
              "      <td>0</td>\n",
              "    </tr>\n",
              "    <tr>\n",
              "      <th>1</th>\n",
              "      <td>49</td>\n",
              "      <td>F</td>\n",
              "      <td>NAP</td>\n",
              "      <td>160</td>\n",
              "      <td>180</td>\n",
              "      <td>0</td>\n",
              "      <td>Normal</td>\n",
              "      <td>156</td>\n",
              "      <td>N</td>\n",
              "      <td>1.0</td>\n",
              "      <td>Flat</td>\n",
              "      <td>1</td>\n",
              "    </tr>\n",
              "    <tr>\n",
              "      <th>2</th>\n",
              "      <td>37</td>\n",
              "      <td>M</td>\n",
              "      <td>ATA</td>\n",
              "      <td>130</td>\n",
              "      <td>283</td>\n",
              "      <td>0</td>\n",
              "      <td>ST</td>\n",
              "      <td>98</td>\n",
              "      <td>N</td>\n",
              "      <td>0.0</td>\n",
              "      <td>Up</td>\n",
              "      <td>0</td>\n",
              "    </tr>\n",
              "    <tr>\n",
              "      <th>3</th>\n",
              "      <td>48</td>\n",
              "      <td>F</td>\n",
              "      <td>ASY</td>\n",
              "      <td>138</td>\n",
              "      <td>214</td>\n",
              "      <td>0</td>\n",
              "      <td>Normal</td>\n",
              "      <td>108</td>\n",
              "      <td>Y</td>\n",
              "      <td>1.5</td>\n",
              "      <td>Flat</td>\n",
              "      <td>1</td>\n",
              "    </tr>\n",
              "    <tr>\n",
              "      <th>4</th>\n",
              "      <td>54</td>\n",
              "      <td>M</td>\n",
              "      <td>NAP</td>\n",
              "      <td>150</td>\n",
              "      <td>195</td>\n",
              "      <td>0</td>\n",
              "      <td>Normal</td>\n",
              "      <td>122</td>\n",
              "      <td>N</td>\n",
              "      <td>0.0</td>\n",
              "      <td>Up</td>\n",
              "      <td>0</td>\n",
              "    </tr>\n",
              "  </tbody>\n",
              "</table>\n",
              "</div>"
            ],
            "text/plain": [
              "   Age Sex ChestPainType  RestingBP  Cholesterol  FastingBS RestingECG  MaxHR  \\\n",
              "0   40   M           ATA        140          289          0     Normal    172   \n",
              "1   49   F           NAP        160          180          0     Normal    156   \n",
              "2   37   M           ATA        130          283          0         ST     98   \n",
              "3   48   F           ASY        138          214          0     Normal    108   \n",
              "4   54   M           NAP        150          195          0     Normal    122   \n",
              "\n",
              "  ExerciseAngina  Oldpeak ST_Slope  HeartDisease  \n",
              "0              N      0.0       Up             0  \n",
              "1              N      1.0     Flat             1  \n",
              "2              N      0.0       Up             0  \n",
              "3              Y      1.5     Flat             1  \n",
              "4              N      0.0       Up             0  "
            ]
          },
          "execution_count": 4,
          "metadata": {},
          "output_type": "execute_result"
        }
      ],
      "source": [
        "df.head()"
      ]
    },
    {
      "cell_type": "markdown",
      "id": "zDOLTQQluug0",
      "metadata": {
        "id": "zDOLTQQluug0"
      },
      "source": [
        "You must perform some data engineering before working with the models. There are 5 categorical features, so you will use Pandas to one-hot encode them."
      ]
    },
    {
      "cell_type": "markdown",
      "id": "ImoIsiaGuug0",
      "metadata": {
        "id": "ImoIsiaGuug0"
      },
      "source": [
        "## 2. One-hot encoding using Pandas\n",
        "\n",
        "First you will remove the binary variables, because one-hot encoding them would do nothing to them. To achieve this you will just count how many different values there are in each categorical variable and consider only the variables with 3 or more values."
      ]
    },
    {
      "cell_type": "code",
      "execution_count": 5,
      "id": "3l3xBOKsuug1",
      "metadata": {
        "id": "3l3xBOKsuug1"
      },
      "outputs": [],
      "source": [
        "cat_variables = ['Sex',\n",
        "'ChestPainType',\n",
        "'RestingECG',\n",
        "'ExerciseAngina',\n",
        "'ST_Slope'\n",
        "]"
      ]
    },
    {
      "cell_type": "markdown",
      "id": "PXawv3GUuug1",
      "metadata": {
        "id": "PXawv3GUuug1"
      },
      "source": [
        "As a reminder, one-hot encoding aims to transform a categorical variable with `n` outputs into `n` binary variables.\n",
        "\n",
        "Pandas has a built-in method to one-hot encode variables, it is the function `pd.get_dummies`. There are several arguments to this function, but here you will use only a few. They are:\n",
        "\n",
        " - data: DataFrame to be used\n",
        " - prefix: A list with prefixes, so you know which value you are dealing with\n",
        " - columns: the list of columns that will be one-hot encoded. 'prefix' and 'columns' must have the same length.\n",
        "\n",
        "For more information, you can always type `help(pd.get_dummies)` to read the function's full documentation."
      ]
    },
    {
      "cell_type": "code",
      "execution_count": 6,
      "id": "mI8ncJ82uug1",
      "metadata": {
        "id": "mI8ncJ82uug1"
      },
      "outputs": [],
      "source": [
        "# This will replace the columns with the one-hot encoded ones and keep the columns outside 'columns' argument as it is.\n",
        "df = pd.get_dummies(data = df,\n",
        "                         prefix = cat_variables,\n",
        "                         columns = cat_variables)"
      ]
    },
    {
      "cell_type": "code",
      "execution_count": 7,
      "id": "E4CRbYk5uug1",
      "metadata": {
        "colab": {
          "base_uri": "https://localhost:8080/",
          "height": 250
        },
        "id": "E4CRbYk5uug1",
        "outputId": "58e93edf-2b65-4c5c-93dc-67d74f7cc3ac"
      },
      "outputs": [
        {
          "data": {
            "text/html": [
              "<div>\n",
              "<style scoped>\n",
              "    .dataframe tbody tr th:only-of-type {\n",
              "        vertical-align: middle;\n",
              "    }\n",
              "\n",
              "    .dataframe tbody tr th {\n",
              "        vertical-align: top;\n",
              "    }\n",
              "\n",
              "    .dataframe thead th {\n",
              "        text-align: right;\n",
              "    }\n",
              "</style>\n",
              "<table border=\"1\" class=\"dataframe\">\n",
              "  <thead>\n",
              "    <tr style=\"text-align: right;\">\n",
              "      <th></th>\n",
              "      <th>Age</th>\n",
              "      <th>RestingBP</th>\n",
              "      <th>Cholesterol</th>\n",
              "      <th>FastingBS</th>\n",
              "      <th>MaxHR</th>\n",
              "      <th>Oldpeak</th>\n",
              "      <th>HeartDisease</th>\n",
              "      <th>Sex_F</th>\n",
              "      <th>Sex_M</th>\n",
              "      <th>ChestPainType_ASY</th>\n",
              "      <th>...</th>\n",
              "      <th>ChestPainType_NAP</th>\n",
              "      <th>ChestPainType_TA</th>\n",
              "      <th>RestingECG_LVH</th>\n",
              "      <th>RestingECG_Normal</th>\n",
              "      <th>RestingECG_ST</th>\n",
              "      <th>ExerciseAngina_N</th>\n",
              "      <th>ExerciseAngina_Y</th>\n",
              "      <th>ST_Slope_Down</th>\n",
              "      <th>ST_Slope_Flat</th>\n",
              "      <th>ST_Slope_Up</th>\n",
              "    </tr>\n",
              "  </thead>\n",
              "  <tbody>\n",
              "    <tr>\n",
              "      <th>0</th>\n",
              "      <td>40</td>\n",
              "      <td>140</td>\n",
              "      <td>289</td>\n",
              "      <td>0</td>\n",
              "      <td>172</td>\n",
              "      <td>0.0</td>\n",
              "      <td>0</td>\n",
              "      <td>False</td>\n",
              "      <td>True</td>\n",
              "      <td>False</td>\n",
              "      <td>...</td>\n",
              "      <td>False</td>\n",
              "      <td>False</td>\n",
              "      <td>False</td>\n",
              "      <td>True</td>\n",
              "      <td>False</td>\n",
              "      <td>True</td>\n",
              "      <td>False</td>\n",
              "      <td>False</td>\n",
              "      <td>False</td>\n",
              "      <td>True</td>\n",
              "    </tr>\n",
              "    <tr>\n",
              "      <th>1</th>\n",
              "      <td>49</td>\n",
              "      <td>160</td>\n",
              "      <td>180</td>\n",
              "      <td>0</td>\n",
              "      <td>156</td>\n",
              "      <td>1.0</td>\n",
              "      <td>1</td>\n",
              "      <td>True</td>\n",
              "      <td>False</td>\n",
              "      <td>False</td>\n",
              "      <td>...</td>\n",
              "      <td>True</td>\n",
              "      <td>False</td>\n",
              "      <td>False</td>\n",
              "      <td>True</td>\n",
              "      <td>False</td>\n",
              "      <td>True</td>\n",
              "      <td>False</td>\n",
              "      <td>False</td>\n",
              "      <td>True</td>\n",
              "      <td>False</td>\n",
              "    </tr>\n",
              "    <tr>\n",
              "      <th>2</th>\n",
              "      <td>37</td>\n",
              "      <td>130</td>\n",
              "      <td>283</td>\n",
              "      <td>0</td>\n",
              "      <td>98</td>\n",
              "      <td>0.0</td>\n",
              "      <td>0</td>\n",
              "      <td>False</td>\n",
              "      <td>True</td>\n",
              "      <td>False</td>\n",
              "      <td>...</td>\n",
              "      <td>False</td>\n",
              "      <td>False</td>\n",
              "      <td>False</td>\n",
              "      <td>False</td>\n",
              "      <td>True</td>\n",
              "      <td>True</td>\n",
              "      <td>False</td>\n",
              "      <td>False</td>\n",
              "      <td>False</td>\n",
              "      <td>True</td>\n",
              "    </tr>\n",
              "    <tr>\n",
              "      <th>3</th>\n",
              "      <td>48</td>\n",
              "      <td>138</td>\n",
              "      <td>214</td>\n",
              "      <td>0</td>\n",
              "      <td>108</td>\n",
              "      <td>1.5</td>\n",
              "      <td>1</td>\n",
              "      <td>True</td>\n",
              "      <td>False</td>\n",
              "      <td>True</td>\n",
              "      <td>...</td>\n",
              "      <td>False</td>\n",
              "      <td>False</td>\n",
              "      <td>False</td>\n",
              "      <td>True</td>\n",
              "      <td>False</td>\n",
              "      <td>False</td>\n",
              "      <td>True</td>\n",
              "      <td>False</td>\n",
              "      <td>True</td>\n",
              "      <td>False</td>\n",
              "    </tr>\n",
              "    <tr>\n",
              "      <th>4</th>\n",
              "      <td>54</td>\n",
              "      <td>150</td>\n",
              "      <td>195</td>\n",
              "      <td>0</td>\n",
              "      <td>122</td>\n",
              "      <td>0.0</td>\n",
              "      <td>0</td>\n",
              "      <td>False</td>\n",
              "      <td>True</td>\n",
              "      <td>False</td>\n",
              "      <td>...</td>\n",
              "      <td>True</td>\n",
              "      <td>False</td>\n",
              "      <td>False</td>\n",
              "      <td>True</td>\n",
              "      <td>False</td>\n",
              "      <td>True</td>\n",
              "      <td>False</td>\n",
              "      <td>False</td>\n",
              "      <td>False</td>\n",
              "      <td>True</td>\n",
              "    </tr>\n",
              "  </tbody>\n",
              "</table>\n",
              "<p>5 rows × 21 columns</p>\n",
              "</div>"
            ],
            "text/plain": [
              "   Age  RestingBP  Cholesterol  FastingBS  MaxHR  Oldpeak  HeartDisease  \\\n",
              "0   40        140          289          0    172      0.0             0   \n",
              "1   49        160          180          0    156      1.0             1   \n",
              "2   37        130          283          0     98      0.0             0   \n",
              "3   48        138          214          0    108      1.5             1   \n",
              "4   54        150          195          0    122      0.0             0   \n",
              "\n",
              "   Sex_F  Sex_M  ChestPainType_ASY  ...  ChestPainType_NAP  ChestPainType_TA  \\\n",
              "0  False   True              False  ...              False             False   \n",
              "1   True  False              False  ...               True             False   \n",
              "2  False   True              False  ...              False             False   \n",
              "3   True  False               True  ...              False             False   \n",
              "4  False   True              False  ...               True             False   \n",
              "\n",
              "   RestingECG_LVH  RestingECG_Normal  RestingECG_ST  ExerciseAngina_N  \\\n",
              "0           False               True          False              True   \n",
              "1           False               True          False              True   \n",
              "2           False              False           True              True   \n",
              "3           False               True          False             False   \n",
              "4           False               True          False              True   \n",
              "\n",
              "   ExerciseAngina_Y  ST_Slope_Down  ST_Slope_Flat  ST_Slope_Up  \n",
              "0             False          False          False         True  \n",
              "1             False          False           True        False  \n",
              "2             False          False          False         True  \n",
              "3              True          False           True        False  \n",
              "4             False          False          False         True  \n",
              "\n",
              "[5 rows x 21 columns]"
            ]
          },
          "execution_count": 7,
          "metadata": {},
          "output_type": "execute_result"
        }
      ],
      "source": [
        "df.head()"
      ]
    },
    {
      "cell_type": "markdown",
      "id": "AQJVinqmuug2",
      "metadata": {
        "id": "AQJVinqmuug2"
      },
      "source": [
        "You now will define the final set of variables that will be used by the models you will build in this lab."
      ]
    },
    {
      "cell_type": "code",
      "execution_count": 8,
      "id": "604E5xCyuug2",
      "metadata": {
        "id": "604E5xCyuug2"
      },
      "outputs": [],
      "source": [
        "var = [x for x in df.columns if x not in 'HeartDisease'] ## Removing our target variable"
      ]
    },
    {
      "cell_type": "markdown",
      "id": "Cs6YA6fRuug2",
      "metadata": {
        "id": "Cs6YA6fRuug2"
      },
      "source": [
        "Note how the number of variables has changed. You started with 11 variables now you have:"
      ]
    },
    {
      "cell_type": "code",
      "execution_count": 9,
      "id": "hoZHjrlyuug2",
      "metadata": {
        "colab": {
          "base_uri": "https://localhost:8080/"
        },
        "id": "hoZHjrlyuug2",
        "outputId": "84f6249d-194b-4446-de98-2f60b59a240d"
      },
      "outputs": [
        {
          "name": "stdout",
          "output_type": "stream",
          "text": [
            "20\n"
          ]
        }
      ],
      "source": [
        "print(len(var))"
      ]
    },
    {
      "cell_type": "markdown",
      "id": "1E-aegDIuug3",
      "metadata": {
        "id": "1E-aegDIuug3"
      },
      "source": [
        "# 3. Splitting the Dataset\n",
        "\n",
        "In this section, you will split our dataset into train and test datasets. You will use the function `train_test_split` from Scikit-learn. Let's just check its arguments."
      ]
    },
    {
      "cell_type": "code",
      "execution_count": 10,
      "id": "4K5pkl_auug3",
      "metadata": {
        "id": "4K5pkl_auug3"
      },
      "outputs": [],
      "source": [
        "X_train, X_test, y_train, y_test = train_test_split(df[var], df['HeartDisease'], train_size = 0.8, random_state = RANDOM_STATE)\n",
        "\n",
        "# We will keep the shuffle = True since our dataset has not any time dependency."
      ]
    },
    {
      "cell_type": "code",
      "execution_count": 11,
      "id": "cxEEHuUkuug3",
      "metadata": {
        "colab": {
          "base_uri": "https://localhost:8080/"
        },
        "id": "cxEEHuUkuug3",
        "outputId": "57342064-4ff6-445e-f5df-ea06663bbee8"
      },
      "outputs": [
        {
          "name": "stdout",
          "output_type": "stream",
          "text": [
            "train samples: 734\n",
            "test samples: 184\n",
            "target proportion: 0.5518\n"
          ]
        }
      ],
      "source": [
        "print(f'train samples: {len(X_train)}\\ntest samples: {len(X_test)}')\n",
        "print(f'target proportion: {sum(y_train)/len(y_train):.4f}')"
      ]
    },
    {
      "cell_type": "markdown",
      "id": "yo-v65gzuug3",
      "metadata": {
        "id": "yo-v65gzuug3"
      },
      "source": [
        "# 4. Building the Models\n",
        "\n",
        "## 4.1 Decision Tree\n",
        "\n",
        "In this section, let's work with the Decision Tree you previously learned, but now using the [Scikit-learn implementation](https://scikit-learn.org/stable/modules/generated/sklearn.tree.DecisionTreeClassifier.html).\n",
        "\n",
        "There are several hyperparameters in the Decision Tree object from Scikit-learn. You will use only some of them and also you will not perform feature selection nor hyperparameter tuning in this lab (but you are encouraged to do so and compare the results :-) )\n",
        "\n",
        "\n",
        "The hyperparameters you will use and investigate here is:\n",
        "\n",
        " - min_samples_split: The minimum number of samples required to split an internal node. This may prevent overfitting.\n",
        " - max_depth: The maximum depth of the tree. This may prevent overfitting."
      ]
    },
    {
      "cell_type": "code",
      "execution_count": 12,
      "id": "q5uMYbbfuug3",
      "metadata": {
        "id": "q5uMYbbfuug3"
      },
      "outputs": [],
      "source": [
        "min_samples_split_list = [2,10, 30, 50, 100, 200, 300, 700] ## If the number is an integer, then it is the actual quantity of samples,\n",
        "max_depth_list = [1,2, 3, 4, 8, 16, 32, 64, None] # None means that there is no depth limit."
      ]
    },
    {
      "cell_type": "code",
      "execution_count": 13,
      "id": "zzCh2Ifpuug4",
      "metadata": {
        "colab": {
          "base_uri": "https://localhost:8080/",
          "height": 497
        },
        "id": "zzCh2Ifpuug4",
        "outputId": "75c78713-b28f-4a5d-f5d5-a44a908c5ebc"
      },
      "outputs": [
        {
          "data": {
            "text/plain": [
              "<matplotlib.legend.Legend at 0x1473f0b40d0>"
            ]
          },
          "execution_count": 13,
          "metadata": {},
          "output_type": "execute_result"
        },
        {
          "data": {
            "image/png": "[encoded data removed]",
            "text/plain": [
              "<Figure size 640x480 with 1 Axes>"
            ]
          },
          "metadata": {},
          "output_type": "display_data"
        }
      ],
      "source": [
        "accuracy_list_train = []\n",
        "accuracy_list_test = []\n",
        "for min_samples_split in min_samples_split_list:\n",
        "    # You can fit the model at the same time you define it, because the fit function returns the fitted estimator.\n",
        "    model = DecisionTreeClassifier(min_samples_split = min_samples_split,\n",
        "                                   random_state = RANDOM_STATE).fit(X_train,y_train)\n",
        "    predictions_train = model.predict(X_train) ## The predicted values for the train dataset\n",
        "    predictions_test = model.predict(X_test) ## The predicted values for the test dataset\n",
        "    accuracy_train = accuracy_score(predictions_train,y_train)\n",
        "    accuracy_test = accuracy_score(predictions_test,y_test)\n",
        "    accuracy_list_train.append(accuracy_train)\n",
        "    accuracy_list_test.append(accuracy_test)\n",
        "\n",
        "plt.title('Train x Test metrics')\n",
        "plt.xlabel('min_samples_split')\n",
        "plt.ylabel('accuracy')\n",
        "plt.xticks(ticks = range(len(min_samples_split_list )),labels=min_samples_split_list)\n",
        "plt.plot(accuracy_list_train)\n",
        "plt.plot(accuracy_list_test)\n",
        "plt.legend(['Train','Test'])"
      ]
    },
    {
      "cell_type": "markdown",
      "id": "KOH3ayriuug4",
      "metadata": {
        "id": "KOH3ayriuug4"
      },
      "source": [
        "Note how increasing the the number of `min_samples_split` decreases the overfit.\n",
        "\n",
        "Let's do the same experiment with `max_depth`."
      ]
    },
    {
      "cell_type": "code",
      "execution_count": 14,
      "id": "QKRgR7LTuug4",
      "metadata": {
        "colab": {
          "base_uri": "https://localhost:8080/",
          "height": 497
        },
        "id": "QKRgR7LTuug4",
        "outputId": "e9909075-d65e-4621-ec1a-e16f81e65aac"
      },
      "outputs": [
        {
          "data": {
            "text/plain": [
              "<matplotlib.legend.Legend at 0x1473f17d610>"
            ]
          },
          "execution_count": 14,
          "metadata": {},
          "output_type": "execute_result"
        },
        {
          "data": {
            "image/png": "[encoded data removed]",
            "text/plain": [
              "<Figure size 640x480 with 1 Axes>"
            ]
          },
          "metadata": {},
          "output_type": "display_data"
        }
      ],
      "source": [
        "accuracy_list_train = []\n",
        "accuracy_list_test = []\n",
        "for max_depth in max_depth_list:\n",
        "    # You can fit the model at the same time you define it, because the fit function returns the fitted estimator.\n",
        "    model = DecisionTreeClassifier(max_depth = max_depth,\n",
        "                                   random_state = RANDOM_STATE).fit(X_train,y_train)\n",
        "    predictions_train = model.predict(X_train) ## The predicted values for the train dataset\n",
        "    predictions_test = model.predict(X_test) ## The predicted values for the test dataset\n",
        "    accuracy_train = accuracy_score(predictions_train,y_train)\n",
        "    accuracy_test = accuracy_score(predictions_test,y_test)\n",
        "    accuracy_list_train.append(accuracy_train)\n",
        "    accuracy_list_test.append(accuracy_test)\n",
        "\n",
        "plt.title('Train x Test metrics')\n",
        "plt.xlabel('max_depth')\n",
        "plt.ylabel('accuracy')\n",
        "plt.xticks(ticks = range(len(max_depth_list )),labels=max_depth_list)\n",
        "plt.plot(accuracy_list_train)\n",
        "plt.plot(accuracy_list_test)\n",
        "plt.legend(['Train','Test'])"
      ]
    },
    {
      "cell_type": "markdown",
      "id": "VvzVIBNtuug4",
      "metadata": {
        "id": "VvzVIBNtuug4"
      },
      "source": [
        "The test accuracy reaches the highest at tree_depth=3. When the allowed depth is smaller, the tree cannot make enough splits to distinguish positives from negatives (having the underfit problem), but when the allowed depth is too high ( >= 5), the tree becomes too specialized to the training set and thus losing accuracy to the test dataset (having the overfit problem). Our final tree model then will have:\n",
        "\n",
        "- `max_depth = 3`\n",
        "- `min_samples_split = 50`"
      ]
    },
    {
      "cell_type": "code",
      "execution_count": 15,
      "id": "OJ6dXjT0uug4",
      "metadata": {
        "id": "OJ6dXjT0uug4"
      },
      "outputs": [],
      "source": [
        "decision_tree_model = DecisionTreeClassifier(min_samples_split = 50,\n",
        "                                             max_depth = 3,\n",
        "                                             random_state = RANDOM_STATE).fit(X_train,y_train)"
      ]
    },
    {
      "cell_type": "code",
      "execution_count": 16,
      "id": "TlfHi_-tuug4",
      "metadata": {
        "colab": {
          "base_uri": "https://localhost:8080/"
        },
        "id": "TlfHi_-tuug4",
        "outputId": "10a85929-87e6-4fdf-b6c7-8dcf7d7bfd64"
      },
      "outputs": [
        {
          "name": "stdout",
          "output_type": "stream",
          "text": [
            "Metrics train:\n",
            "\tAccuracy score: 0.8583\n",
            "Metrics test:\n",
            "\tAccuracy score: 0.8641\n"
          ]
        }
      ],
      "source": [
        "print(f\"Metrics train:\\n\\tAccuracy score: {accuracy_score(decision_tree_model.predict(X_train),y_train):.4f}\\nMetrics test:\\n\\tAccuracy score: {accuracy_score(decision_tree_model.predict(X_test),y_test):.4f}\")"
      ]
    },
    {
      "cell_type": "markdown",
      "id": "gwOrt_V4uug4",
      "metadata": {
        "id": "gwOrt_V4uug4"
      },
      "source": [
        "No sign of overfit, even though the metrics are not that good."
      ]
    },
    {
      "cell_type": "markdown",
      "id": "a5PXWNanuug4",
      "metadata": {
        "id": "a5PXWNanuug4"
      },
      "source": [
        "## 4.2 Random Forest\n",
        "\n",
        "Now let's try the Random Forest algorithm also, using the Scikit-learn implementation. Naturally, all of the above hyperparameters will exist in this algorithm, since it is just an ensemble of Decision Trees, but will have another hyperparameter that you will use, called `n_estimators` which is how many different Decision Trees will be fitted.\n",
        "\n",
        "Remember that for a Random Forest, you use a subset of the features AND a subset of the training set to train each tree, chosen randomly. In this case, you will use the number of features as you saw in the lecture, which is $\\sqrt{n}$ where $n$ is the number of features. However, this can be modified. For further information on the Random Forest hyperparameters, you can run `help(RandomForestClassifier)`.\n",
        "\n",
        "Another parameter that does not impact on the final result but can speed up the computation is called `n_jobs`. Since the fitting of each tree is independent of each other, it is possible to run parallel fits. So setting `n_jobs` higher will increase how many CPU cores it will use. Note that the numbers very close to the maximum cores of your CPU may impact on the overall performance of your PC and even lead to freezes.\n",
        "\n",
        "You will run the same script again, but with another parameter, `n_estimators`, where we will choose between 10, 50, and 100. The default is 100."
      ]
    },
    {
      "cell_type": "code",
      "execution_count": 17,
      "id": "bHCbhqjbuug4",
      "metadata": {
        "id": "bHCbhqjbuug4"
      },
      "outputs": [],
      "source": [
        "min_samples_split_list = [2,10, 30, 50, 100, 200, 300, 700]  ## If the number is an integer, then it is the actual quantity of samples,\n",
        "                                             ## If it is a float, then it is the percentage of the dataset\n",
        "max_depth_list = [2, 4, 8, 16, 32, 64, None]\n",
        "n_estimators_list = [10,50,100,500]"
      ]
    },
    {
      "cell_type": "code",
      "execution_count": 18,
      "id": "5On0K5pfuug4",
      "metadata": {
        "colab": {
          "base_uri": "https://localhost:8080/",
          "height": 497
        },
        "id": "5On0K5pfuug4",
        "outputId": "a25a5741-e79a-4ecb-9c5f-a4d3d4b03ff9"
      },
      "outputs": [
        {
          "data": {
            "text/plain": [
              "<matplotlib.legend.Legend at 0x1474138d610>"
            ]
          },
          "execution_count": 18,
          "metadata": {},
          "output_type": "execute_result"
        },
        {
          "data": {
            "image/png": "[encoded data removed]",
            "text/plain": [
              "<Figure size 640x480 with 1 Axes>"
            ]
          },
          "metadata": {},
          "output_type": "display_data"
        }
      ],
      "source": [
        "accuracy_list_train = []\n",
        "accuracy_list_test = []\n",
        "for min_samples_split in min_samples_split_list:\n",
        "    # You can fit the model at the same time you define it, because the fit function returns the fitted estimator.\n",
        "    model = RandomForestClassifier(min_samples_split = min_samples_split,\n",
        "                                   random_state = RANDOM_STATE).fit(X_train,y_train)\n",
        "    predictions_train = model.predict(X_train) ## The predicted values for the train dataset\n",
        "    predictions_test = model.predict(X_test) ## The predicted values for the test dataset\n",
        "    accuracy_train = accuracy_score(predictions_train,y_train)\n",
        "    accuracy_test = accuracy_score(predictions_test,y_test)\n",
        "    accuracy_list_train.append(accuracy_train)\n",
        "    accuracy_list_test.append(accuracy_test)\n",
        "\n",
        "plt.title('Train x Test metrics')\n",
        "plt.xlabel('min_samples_split')\n",
        "plt.ylabel('accuracy')\n",
        "plt.xticks(ticks = range(len(min_samples_split_list )),labels=min_samples_split_list)\n",
        "plt.plot(accuracy_list_train)\n",
        "plt.plot(accuracy_list_test)\n",
        "plt.legend(['Train','Test'])"
      ]
    },
    {
      "cell_type": "code",
      "execution_count": 19,
      "id": "Wl-lexg2uug5",
      "metadata": {
        "colab": {
          "base_uri": "https://localhost:8080/",
          "height": 497
        },
        "id": "Wl-lexg2uug5",
        "outputId": "4b4998e8-1f2c-4f70-e8e4-2f30cf84b772"
      },
      "outputs": [
        {
          "data": {
            "text/plain": [
              "<matplotlib.legend.Legend at 0x1473f1e5610>"
            ]
          },
          "execution_count": 19,
          "metadata": {},
          "output_type": "execute_result"
        },
        {
          "data": {
            "image/png": "[encoded data removed]",
            "text/plain": [
              "<Figure size 640x480 with 1 Axes>"
            ]
          },
          "metadata": {},
          "output_type": "display_data"
        }
      ],
      "source": [
        "accuracy_list_train = []\n",
        "accuracy_list_test = []\n",
        "for max_depth in max_depth_list:\n",
        "    # You can fit the model at the same time you define it, because the fit function returns the fitted estimator.\n",
        "    model = RandomForestClassifier(max_depth = max_depth,\n",
        "                                   random_state = RANDOM_STATE).fit(X_train,y_train)\n",
        "    predictions_train = model.predict(X_train) ## The predicted values for the train dataset\n",
        "    predictions_test = model.predict(X_test) ## The predicted values for the test dataset\n",
        "    accuracy_train = accuracy_score(predictions_train,y_train)\n",
        "    accuracy_test = accuracy_score(predictions_test,y_test)\n",
        "    accuracy_list_train.append(accuracy_train)\n",
        "    accuracy_list_test.append(accuracy_test)\n",
        "\n",
        "plt.title('Train x Test metrics')\n",
        "plt.xlabel('max_depth')\n",
        "plt.ylabel('accuracy')\n",
        "plt.xticks(ticks = range(len(max_depth_list )),labels=max_depth_list)\n",
        "plt.plot(accuracy_list_train)\n",
        "plt.plot(accuracy_list_test)\n",
        "plt.legend(['Train','Test'])"
      ]
    },
    {
      "cell_type": "code",
      "execution_count": 20,
      "id": "KpQm0Xvouug5",
      "metadata": {
        "colab": {
          "base_uri": "https://localhost:8080/",
          "height": 497
        },
        "id": "KpQm0Xvouug5",
        "outputId": "705e348a-2bbb-43d0-fa3b-9b57b3e396a8"
      },
      "outputs": [
        {
          "data": {
            "text/plain": [
              "<matplotlib.legend.Legend at 0x1474142e250>"
            ]
          },
          "execution_count": 20,
          "metadata": {},
          "output_type": "execute_result"
        },
        {
          "data": {
            "image/png": "[encoded data removed]",
            "text/plain": [
              "<Figure size 640x480 with 1 Axes>"
            ]
          },
          "metadata": {},
          "output_type": "display_data"
        }
      ],
      "source": [
        "accuracy_list_train = []\n",
        "accuracy_list_test = []\n",
        "for n_estimators in n_estimators_list:\n",
        "    # You can fit the model at the same time you define it, because the fit function returns the fitted estimator.\n",
        "    model = RandomForestClassifier(n_estimators = n_estimators,\n",
        "                                   random_state = RANDOM_STATE).fit(X_train,y_train)\n",
        "    predictions_train = model.predict(X_train) ## The predicted values for the train dataset\n",
        "    predictions_test = model.predict(X_test) ## The predicted values for the test dataset\n",
        "    accuracy_train = accuracy_score(predictions_train,y_train)\n",
        "    accuracy_test = accuracy_score(predictions_test,y_test)\n",
        "    accuracy_list_train.append(accuracy_train)\n",
        "    accuracy_list_test.append(accuracy_test)\n",
        "\n",
        "plt.title('Train x Test metrics')\n",
        "plt.xlabel('n_estimators')\n",
        "plt.ylabel('accuracy')\n",
        "plt.xticks(ticks = range(len(n_estimators_list )),labels=n_estimators_list)\n",
        "plt.plot(accuracy_list_train)\n",
        "plt.plot(accuracy_list_test)\n",
        "plt.legend(['Train','Test'])"
      ]
    },
    {
      "cell_type": "markdown",
      "id": "1Im2JhnKuug5",
      "metadata": {
        "id": "1Im2JhnKuug5"
      },
      "source": [
        "Let's then fit a random forest with the following parameters:\n",
        "\n",
        " - max_depth: 8\n",
        " - min_samples_split: 10\n",
        " - n_estimators: 100"
      ]
    },
    {
      "cell_type": "code",
      "execution_count": 21,
      "id": "uU43sDYkuug5",
      "metadata": {
        "id": "uU43sDYkuug5"
      },
      "outputs": [],
      "source": [
        "random_forest_model = RandomForestClassifier(n_estimators = 100,\n",
        "                                             max_depth = 8,\n",
        "                                             min_samples_split = 10).fit(X_train,y_train)"
      ]
    },
    {
      "cell_type": "code",
      "execution_count": 22,
      "id": "2Eu2Vn4Zuug5",
      "metadata": {
        "colab": {
          "base_uri": "https://localhost:8080/"
        },
        "id": "2Eu2Vn4Zuug5",
        "outputId": "b1e697b6-1e48-4efc-bc93-cfef4478366c"
      },
      "outputs": [
        {
          "name": "stdout",
          "output_type": "stream",
          "text": [
            "Metrics train:\n",
            "\tAccuracy score: 0.9196\n",
            "Metrics test:\n",
            "\tAccuracy score: 0.8750\n"
          ]
        }
      ],
      "source": [
        "print(f\"Metrics train:\\n\\tAccuracy score: {accuracy_score(random_forest_model.predict(X_train),y_train):.4f}\\nMetrics test:\\n\\tAccuracy score: {accuracy_score(random_forest_model.predict(X_test),y_test):.4f}\")"
      ]
    },
    {
      "cell_type": "markdown",
      "id": "d6kTXGBIuug5",
      "metadata": {
        "id": "d6kTXGBIuug5"
      },
      "source": [
        "You have demonstrated how to look for the best value hyperparameter-by-hyperparameter. However, you should not overlook that as we experiment with one hyperparameter we always have to fix the others at some default values. This makes us only able to tell how the hyperparameter value changes with respect to those defaults. In princple, if you have 4 values to try out in each of the 3 hyperparameters being tuned, you should have a total of 4 x 4 x 4 = 64 combinations, however, the way you are doing will only give us 4 + 4 + 4 = 12 results. To try out all combinations, you can use a sklearn implementation called GridSearchCV, moreover, it has a refit parameter that will automatically refit a model on the best combination so you will not need to program it explicitly. For more on GridSearchCV, please refer to its [documentation](https://scikit-learn.org/stable/modules/generated/sklearn.model_selection.GridSearchCV.html)."
      ]
    },
    {
      "cell_type": "markdown",
      "id": "S_QircVF0q-W",
      "metadata": {
        "id": "S_QircVF0q-W"
      },
      "source": [
        "## ✅ Activity: Feature Importance analysis with Random Forests\n",
        "\n",
        "1. Extract feature importance scores from the random_forest_model.\n",
        "\n",
        "2. Visualize the top 10 most important features using a bar plot.\n",
        "\n",
        "3. Discuss your observations about the relative importance of different features in predicting heart disease."
      ]
    },
    {
      "cell_type": "code",
      "execution_count": 23,
      "id": "4NaRdrhY1HNe",
      "metadata": {
        "id": "4NaRdrhY1HNe"
      },
      "outputs": [],
      "source": [
        "# here your code\n",
        "import pandas as pd\n",
        "\n",
        "# Make sure your training features have column names\n",
        "feature_names = X_train.columns\n",
        "\n",
        "# Get the importance scores\n",
        "importances = random_forest_model.feature_importances_\n",
        "\n",
        "# Create DataFrame for visualization\n",
        "feature_importance_df = pd.DataFrame({\n",
        "    'Feature': feature_names,\n",
        "    'Importance': importances\n",
        "}).sort_values(by='Importance', ascending=False)\n"
      ]
    },
    {
      "cell_type": "code",
      "execution_count": 24,
      "id": "f7e7b8ef",
      "metadata": {},
      "outputs": [
        {
          "name": "stderr",
          "output_type": "stream",
          "text": [
            "C:\\Users\\jeff_\\AppData\\Local\\Temp\\ipykernel_5108\\867835892.py:8: FutureWarning: \n",
            "\n",
            "Passing `palette` without assigning `hue` is deprecated and will be removed in v0.14.0. Assign the `y` variable to `hue` and set `legend=False` for the same effect.\n",
            "\n",
            "  sns.barplot(x='Importance', y='Feature', data=top_10, palette='magma')\n"
          ]
        },
        {
          "data": {
            "image/png": "[encoded data removed]",
            "text/plain": [
              "<Figure size 1000x600 with 1 Axes>"
            ]
          },
          "metadata": {},
          "output_type": "display_data"
        }
      ],
      "source": [
        "import matplotlib.pyplot as plt\n",
        "import seaborn as sns\n",
        "\n",
        "# Plot top 10\n",
        "top_10 = feature_importance_df.head(10)\n",
        "\n",
        "plt.figure(figsize=(10, 6))\n",
        "sns.barplot(x='Importance', y='Feature', data=top_10, palette='magma')\n",
        "plt.title('Top 10 Most Important Features for Predicting Heart Disease')\n",
        "plt.xlabel('Importance Score')\n",
        "plt.ylabel('Feature')\n",
        "plt.tight_layout()\n",
        "plt.show()\n"
      ]
    },
    {
      "cell_type": "markdown",
      "id": "SPhiez8Zuug5",
      "metadata": {
        "id": "SPhiez8Zuug5"
      },
      "source": [
        "## 4.3 XGBoost\n",
        "\n",
        "Now, the last model you will test in this lab is the Gradient Boosting model, called XGBoost. As you've seen in the lectures, the boosting methods train several trees, but instead of them being uncorrelated to each other, now the trees are fitted subsequently to minimize the error.\n",
        "\n",
        "The parameters that this model comprises is the same as the parameters for any decision tree, plus some others, such as the learning rate, which is the size of the step on the Gradient Descent method that the XGBoost uses internally to minimize the error on each train step.\n",
        "\n",
        "One interesting thing about the XGBoost is that it allows, during the fit, to pass a list evaluation datasets of the form `(X_val,y_val)`, where on each iteration, it measures the cost (or evaluation metric) on the evaluation datasets so that once the cost (or metric) stops to descrease for a number of rounds (called early_stopping_rounds), the training will stop. This is how we can automatically control how many estimators is enough, and how we can avoid overfitting due to too many estimators.\n",
        "\n",
        "First, let's define a subset of our training set (we should not use the test set here)."
      ]
    },
    {
      "cell_type": "code",
      "execution_count": 25,
      "id": "npY9Z0ETuug6",
      "metadata": {
        "id": "npY9Z0ETuug6"
      },
      "outputs": [],
      "source": [
        "n = int(len(X_train)*0.8) ## Let's use 80% to train and 20% to eval"
      ]
    },
    {
      "cell_type": "code",
      "execution_count": 26,
      "id": "sHURPPYFuug6",
      "metadata": {
        "id": "sHURPPYFuug6"
      },
      "outputs": [],
      "source": [
        "X_train_fit, X_train_eval, y_train_fit, y_train_eval = X_train[:n], X_train[n:], y_train[:n], y_train[n:]"
      ]
    },
    {
      "cell_type": "markdown",
      "id": "hlxqE7yTuug6",
      "metadata": {
        "id": "hlxqE7yTuug6"
      },
      "source": [
        "You can then set a large number of estimators, because you can stop if the cost function stops decreasing."
      ]
    },
    {
      "cell_type": "code",
      "execution_count": 27,
      "id": "F4j8T466uug6",
      "metadata": {
        "colab": {
          "base_uri": "https://localhost:8080/",
          "height": 1000
        },
        "id": "F4j8T466uug6",
        "outputId": "04dedbd1-40f8-4fcc-ad30-4983e69a7aab"
      },
      "outputs": [
        {
          "name": "stdout",
          "output_type": "stream",
          "text": [
            "[0]\tvalidation_0-logloss:0.63301\n",
            "[1]\tvalidation_0-logloss:0.59553\n",
            "[2]\tvalidation_0-logloss:0.56612\n",
            "[3]\tvalidation_0-logloss:0.54186\n",
            "[4]\tvalidation_0-logloss:0.52348\n",
            "[5]\tvalidation_0-logloss:0.50610\n",
            "[6]\tvalidation_0-logloss:0.49371\n",
            "[7]\tvalidation_0-logloss:0.48365\n",
            "[8]\tvalidation_0-logloss:0.47321\n",
            "[9]\tvalidation_0-logloss:0.46537\n",
            "[10]\tvalidation_0-logloss:0.45999\n",
            "[11]\tvalidation_0-logloss:0.45620\n",
            "[12]\tvalidation_0-logloss:0.45482\n",
            "[13]\tvalidation_0-logloss:0.44974\n",
            "[14]\tvalidation_0-logloss:0.44494\n",
            "[15]\tvalidation_0-logloss:0.44072\n",
            "[16]\tvalidation_0-logloss:0.44078\n",
            "[17]\tvalidation_0-logloss:0.43935\n",
            "[18]\tvalidation_0-logloss:0.44206\n",
            "[19]\tvalidation_0-logloss:0.44536\n",
            "[20]\tvalidation_0-logloss:0.44321\n",
            "[21]\tvalidation_0-logloss:0.44310\n",
            "[22]\tvalidation_0-logloss:0.44419\n",
            "[23]\tvalidation_0-logloss:0.44797\n",
            "[24]\tvalidation_0-logloss:0.44843\n",
            "[25]\tvalidation_0-logloss:0.45337\n",
            "[26]\tvalidation_0-logloss:0.45206\n",
            "[27]\tvalidation_0-logloss:0.45435\n",
            "[28]\tvalidation_0-logloss:0.45316\n",
            "[29]\tvalidation_0-logloss:0.45523\n",
            "[30]\tvalidation_0-logloss:0.45400\n",
            "[31]\tvalidation_0-logloss:0.45349\n",
            "[32]\tvalidation_0-logloss:0.45437\n",
            "[33]\tvalidation_0-logloss:0.45624\n",
            "[34]\tvalidation_0-logloss:0.45458\n",
            "[35]\tvalidation_0-logloss:0.45467\n",
            "[36]\tvalidation_0-logloss:0.45771\n",
            "[37]\tvalidation_0-logloss:0.45972\n",
            "[38]\tvalidation_0-logloss:0.46170\n",
            "[39]\tvalidation_0-logloss:0.46459\n",
            "[40]\tvalidation_0-logloss:0.46673\n",
            "[41]\tvalidation_0-logloss:0.46745\n",
            "[42]\tvalidation_0-logloss:0.46765\n",
            "[43]\tvalidation_0-logloss:0.46790\n",
            "[44]\tvalidation_0-logloss:0.47139\n",
            "[45]\tvalidation_0-logloss:0.47243\n",
            "[46]\tvalidation_0-logloss:0.47138\n",
            "[47]\tvalidation_0-logloss:0.47377\n",
            "[48]\tvalidation_0-logloss:0.47644\n",
            "[49]\tvalidation_0-logloss:0.47711\n",
            "[50]\tvalidation_0-logloss:0.47813\n",
            "[51]\tvalidation_0-logloss:0.47792\n",
            "[52]\tvalidation_0-logloss:0.48056\n",
            "[53]\tvalidation_0-logloss:0.48048\n",
            "[54]\tvalidation_0-logloss:0.48240\n",
            "[55]\tvalidation_0-logloss:0.48509\n",
            "[56]\tvalidation_0-logloss:0.48523\n",
            "[57]\tvalidation_0-logloss:0.48638\n",
            "[58]\tvalidation_0-logloss:0.48457\n",
            "[59]\tvalidation_0-logloss:0.48534\n",
            "[60]\tvalidation_0-logloss:0.48637\n",
            "[61]\tvalidation_0-logloss:0.48847\n",
            "[62]\tvalidation_0-logloss:0.49045\n",
            "[63]\tvalidation_0-logloss:0.49263\n",
            "[64]\tvalidation_0-logloss:0.49466\n",
            "[65]\tvalidation_0-logloss:0.49539\n",
            "[66]\tvalidation_0-logloss:0.49581\n"
          ]
        },
        {
          "data": {
            "text/html": [
              "<style>#sk-container-id-1 {\n",
              "  /* Definition of color scheme common for light and dark mode */\n",
              "  --sklearn-color-text: #000;\n",
              "  --sklearn-color-text-muted: #666;\n",
              "  --sklearn-color-line: gray;\n",
              "  /* Definition of color scheme for unfitted estimators */\n",
              "  --sklearn-color-unfitted-level-0: #fff5e6;\n",
              "  --sklearn-color-unfitted-level-1: #f6e4d2;\n",
              "  --sklearn-color-unfitted-level-2: #ffe0b3;\n",
              "  --sklearn-color-unfitted-level-3: chocolate;\n",
              "  /* Definition of color scheme for fitted estimators */\n",
              "  --sklearn-color-fitted-level-0: #f0f8ff;\n",
              "  --sklearn-color-fitted-level-1: #d4ebff;\n",
              "  --sklearn-color-fitted-level-2: #b3dbfd;\n",
              "  --sklearn-color-fitted-level-3: cornflowerblue;\n",
              "\n",
              "  /* Specific color for light theme */\n",
              "  --sklearn-color-text-on-default-background: var(--sg-text-color, var(--theme-code-foreground, var(--jp-content-font-color1, black)));\n",
              "  --sklearn-color-background: var(--sg-background-color, var(--theme-background, var(--jp-layout-color0, white)));\n",
              "  --sklearn-color-border-box: var(--sg-text-color, var(--theme-code-foreground, var(--jp-content-font-color1, black)));\n",
              "  --sklearn-color-icon: #696969;\n",
              "\n",
              "  @media (prefers-color-scheme: dark) {\n",
              "    /* Redefinition of color scheme for dark theme */\n",
              "    --sklearn-color-text-on-default-background: var(--sg-text-color, var(--theme-code-foreground, var(--jp-content-font-color1, white)));\n",
              "    --sklearn-color-background: var(--sg-background-color, var(--theme-background, var(--jp-layout-color0, #111)));\n",
              "    --sklearn-color-border-box: var(--sg-text-color, var(--theme-code-foreground, var(--jp-content-font-color1, white)));\n",
              "    --sklearn-color-icon: #878787;\n",
              "  }\n",
              "}\n",
              "\n",
              "#sk-container-id-1 {\n",
              "  color: var(--sklearn-color-text);\n",
              "}\n",
              "\n",
              "#sk-container-id-1 pre {\n",
              "  padding: 0;\n",
              "}\n",
              "\n",
              "#sk-container-id-1 input.sk-hidden--visually {\n",
              "  border: 0;\n",
              "  clip: rect(1px 1px 1px 1px);\n",
              "  clip: rect(1px, 1px, 1px, 1px);\n",
              "  height: 1px;\n",
              "  margin: -1px;\n",
              "  overflow: hidden;\n",
              "  padding: 0;\n",
              "  position: absolute;\n",
              "  width: 1px;\n",
              "}\n",
              "\n",
              "#sk-container-id-1 div.sk-dashed-wrapped {\n",
              "  border: 1px dashed var(--sklearn-color-line);\n",
              "  margin: 0 0.4em 0.5em 0.4em;\n",
              "  box-sizing: border-box;\n",
              "  padding-bottom: 0.4em;\n",
              "  background-color: var(--sklearn-color-background);\n",
              "}\n",
              "\n",
              "#sk-container-id-1 div.sk-container {\n",
              "  /* jupyter's `normalize.less` sets `[hidden] { display: none; }`\n",
              "     but bootstrap.min.css set `[hidden] { display: none !important; }`\n",
              "     so we also need the `!important` here to be able to override the\n",
              "     default hidden behavior on the sphinx rendered scikit-learn.org.\n",
              "     See: https://github.com/scikit-learn/scikit-learn/issues/21755 */\n",
              "  display: inline-block !important;\n",
              "  position: relative;\n",
              "}\n",
              "\n",
              "#sk-container-id-1 div.sk-text-repr-fallback {\n",
              "  display: none;\n",
              "}\n",
              "\n",
              "div.sk-parallel-item,\n",
              "div.sk-serial,\n",
              "div.sk-item {\n",
              "  /* draw centered vertical line to link estimators */\n",
              "  background-image: linear-gradient(var(--sklearn-color-text-on-default-background), var(--sklearn-color-text-on-default-background));\n",
              "  background-size: 2px 100%;\n",
              "  background-repeat: no-repeat;\n",
              "  background-position: center center;\n",
              "}\n",
              "\n",
              "/* Parallel-specific style estimator block */\n",
              "\n",
              "#sk-container-id-1 div.sk-parallel-item::after {\n",
              "  content: \"\";\n",
              "  width: 100%;\n",
              "  border-bottom: 2px solid var(--sklearn-color-text-on-default-background);\n",
              "  flex-grow: 1;\n",
              "}\n",
              "\n",
              "#sk-container-id-1 div.sk-parallel {\n",
              "  display: flex;\n",
              "  align-items: stretch;\n",
              "  justify-content: center;\n",
              "  background-color: var(--sklearn-color-background);\n",
              "  position: relative;\n",
              "}\n",
              "\n",
              "#sk-container-id-1 div.sk-parallel-item {\n",
              "  display: flex;\n",
              "  flex-direction: column;\n",
              "}\n",
              "\n",
              "#sk-container-id-1 div.sk-parallel-item:first-child::after {\n",
              "  align-self: flex-end;\n",
              "  width: 50%;\n",
              "}\n",
              "\n",
              "#sk-container-id-1 div.sk-parallel-item:last-child::after {\n",
              "  align-self: flex-start;\n",
              "  width: 50%;\n",
              "}\n",
              "\n",
              "#sk-container-id-1 div.sk-parallel-item:only-child::after {\n",
              "  width: 0;\n",
              "}\n",
              "\n",
              "/* Serial-specific style estimator block */\n",
              "\n",
              "#sk-container-id-1 div.sk-serial {\n",
              "  display: flex;\n",
              "  flex-direction: column;\n",
              "  align-items: center;\n",
              "  background-color: var(--sklearn-color-background);\n",
              "  padding-right: 1em;\n",
              "  padding-left: 1em;\n",
              "}\n",
              "\n",
              "\n",
              "/* Toggleable style: style used for estimator/Pipeline/ColumnTransformer box that is\n",
              "clickable and can be expanded/collapsed.\n",
              "- Pipeline and ColumnTransformer use this feature and define the default style\n",
              "- Estimators will overwrite some part of the style using the `sk-estimator` class\n",
              "*/\n",
              "\n",
              "/* Pipeline and ColumnTransformer style (default) */\n",
              "\n",
              "#sk-container-id-1 div.sk-toggleable {\n",
              "  /* Default theme specific background. It is overwritten whether we have a\n",
              "  specific estimator or a Pipeline/ColumnTransformer */\n",
              "  background-color: var(--sklearn-color-background);\n",
              "}\n",
              "\n",
              "/* Toggleable label */\n",
              "#sk-container-id-1 label.sk-toggleable__label {\n",
              "  cursor: pointer;\n",
              "  display: flex;\n",
              "  width: 100%;\n",
              "  margin-bottom: 0;\n",
              "  padding: 0.5em;\n",
              "  box-sizing: border-box;\n",
              "  text-align: center;\n",
              "  align-items: start;\n",
              "  justify-content: space-between;\n",
              "  gap: 0.5em;\n",
              "}\n",
              "\n",
              "#sk-container-id-1 label.sk-toggleable__label .caption {\n",
              "  font-size: 0.6rem;\n",
              "  font-weight: lighter;\n",
              "  color: var(--sklearn-color-text-muted);\n",
              "}\n",
              "\n",
              "#sk-container-id-1 label.sk-toggleable__label-arrow:before {\n",
              "  /* Arrow on the left of the label */\n",
              "  content: \"▸\";\n",
              "  float: left;\n",
              "  margin-right: 0.25em;\n",
              "  color: var(--sklearn-color-icon);\n",
              "}\n",
              "\n",
              "#sk-container-id-1 label.sk-toggleable__label-arrow:hover:before {\n",
              "  color: var(--sklearn-color-text);\n",
              "}\n",
              "\n",
              "/* Toggleable content - dropdown */\n",
              "\n",
              "#sk-container-id-1 div.sk-toggleable__content {\n",
              "  max-height: 0;\n",
              "  max-width: 0;\n",
              "  overflow: hidden;\n",
              "  text-align: left;\n",
              "  /* unfitted */\n",
              "  background-color: var(--sklearn-color-unfitted-level-0);\n",
              "}\n",
              "\n",
              "#sk-container-id-1 div.sk-toggleable__content.fitted {\n",
              "  /* fitted */\n",
              "  background-color: var(--sklearn-color-fitted-level-0);\n",
              "}\n",
              "\n",
              "#sk-container-id-1 div.sk-toggleable__content pre {\n",
              "  margin: 0.2em;\n",
              "  border-radius: 0.25em;\n",
              "  color: var(--sklearn-color-text);\n",
              "  /* unfitted */\n",
              "  background-color: var(--sklearn-color-unfitted-level-0);\n",
              "}\n",
              "\n",
              "#sk-container-id-1 div.sk-toggleable__content.fitted pre {\n",
              "  /* unfitted */\n",
              "  background-color: var(--sklearn-color-fitted-level-0);\n",
              "}\n",
              "\n",
              "#sk-container-id-1 input.sk-toggleable__control:checked~div.sk-toggleable__content {\n",
              "  /* Expand drop-down */\n",
              "  max-height: 200px;\n",
              "  max-width: 100%;\n",
              "  overflow: auto;\n",
              "}\n",
              "\n",
              "#sk-container-id-1 input.sk-toggleable__control:checked~label.sk-toggleable__label-arrow:before {\n",
              "  content: \"▾\";\n",
              "}\n",
              "\n",
              "/* Pipeline/ColumnTransformer-specific style */\n",
              "\n",
              "#sk-container-id-1 div.sk-label input.sk-toggleable__control:checked~label.sk-toggleable__label {\n",
              "  color: var(--sklearn-color-text);\n",
              "  background-color: var(--sklearn-color-unfitted-level-2);\n",
              "}\n",
              "\n",
              "#sk-container-id-1 div.sk-label.fitted input.sk-toggleable__control:checked~label.sk-toggleable__label {\n",
              "  background-color: var(--sklearn-color-fitted-level-2);\n",
              "}\n",
              "\n",
              "/* Estimator-specific style */\n",
              "\n",
              "/* Colorize estimator box */\n",
              "#sk-container-id-1 div.sk-estimator input.sk-toggleable__control:checked~label.sk-toggleable__label {\n",
              "  /* unfitted */\n",
              "  background-color: var(--sklearn-color-unfitted-level-2);\n",
              "}\n",
              "\n",
              "#sk-container-id-1 div.sk-estimator.fitted input.sk-toggleable__control:checked~label.sk-toggleable__label {\n",
              "  /* fitted */\n",
              "  background-color: var(--sklearn-color-fitted-level-2);\n",
              "}\n",
              "\n",
              "#sk-container-id-1 div.sk-label label.sk-toggleable__label,\n",
              "#sk-container-id-1 div.sk-label label {\n",
              "  /* The background is the default theme color */\n",
              "  color: var(--sklearn-color-text-on-default-background);\n",
              "}\n",
              "\n",
              "/* On hover, darken the color of the background */\n",
              "#sk-container-id-1 div.sk-label:hover label.sk-toggleable__label {\n",
              "  color: var(--sklearn-color-text);\n",
              "  background-color: var(--sklearn-color-unfitted-level-2);\n",
              "}\n",
              "\n",
              "/* Label box, darken color on hover, fitted */\n",
              "#sk-container-id-1 div.sk-label.fitted:hover label.sk-toggleable__label.fitted {\n",
              "  color: var(--sklearn-color-text);\n",
              "  background-color: var(--sklearn-color-fitted-level-2);\n",
              "}\n",
              "\n",
              "/* Estimator label */\n",
              "\n",
              "#sk-container-id-1 div.sk-label label {\n",
              "  font-family: monospace;\n",
              "  font-weight: bold;\n",
              "  display: inline-block;\n",
              "  line-height: 1.2em;\n",
              "}\n",
              "\n",
              "#sk-container-id-1 div.sk-label-container {\n",
              "  text-align: center;\n",
              "}\n",
              "\n",
              "/* Estimator-specific */\n",
              "#sk-container-id-1 div.sk-estimator {\n",
              "  font-family: monospace;\n",
              "  border: 1px dotted var(--sklearn-color-border-box);\n",
              "  border-radius: 0.25em;\n",
              "  box-sizing: border-box;\n",
              "  margin-bottom: 0.5em;\n",
              "  /* unfitted */\n",
              "  background-color: var(--sklearn-color-unfitted-level-0);\n",
              "}\n",
              "\n",
              "#sk-container-id-1 div.sk-estimator.fitted {\n",
              "  /* fitted */\n",
              "  background-color: var(--sklearn-color-fitted-level-0);\n",
              "}\n",
              "\n",
              "/* on hover */\n",
              "#sk-container-id-1 div.sk-estimator:hover {\n",
              "  /* unfitted */\n",
              "  background-color: var(--sklearn-color-unfitted-level-2);\n",
              "}\n",
              "\n",
              "#sk-container-id-1 div.sk-estimator.fitted:hover {\n",
              "  /* fitted */\n",
              "  background-color: var(--sklearn-color-fitted-level-2);\n",
              "}\n",
              "\n",
              "/* Specification for estimator info (e.g. \"i\" and \"?\") */\n",
              "\n",
              "/* Common style for \"i\" and \"?\" */\n",
              "\n",
              ".sk-estimator-doc-link,\n",
              "a:link.sk-estimator-doc-link,\n",
              "a:visited.sk-estimator-doc-link {\n",
              "  float: right;\n",
              "  font-size: smaller;\n",
              "  line-height: 1em;\n",
              "  font-family: monospace;\n",
              "  background-color: var(--sklearn-color-background);\n",
              "  border-radius: 1em;\n",
              "  height: 1em;\n",
              "  width: 1em;\n",
              "  text-decoration: none !important;\n",
              "  margin-left: 0.5em;\n",
              "  text-align: center;\n",
              "  /* unfitted */\n",
              "  border: var(--sklearn-color-unfitted-level-1) 1pt solid;\n",
              "  color: var(--sklearn-color-unfitted-level-1);\n",
              "}\n",
              "\n",
              ".sk-estimator-doc-link.fitted,\n",
              "a:link.sk-estimator-doc-link.fitted,\n",
              "a:visited.sk-estimator-doc-link.fitted {\n",
              "  /* fitted */\n",
              "  border: var(--sklearn-color-fitted-level-1) 1pt solid;\n",
              "  color: var(--sklearn-color-fitted-level-1);\n",
              "}\n",
              "\n",
              "/* On hover */\n",
              "div.sk-estimator:hover .sk-estimator-doc-link:hover,\n",
              ".sk-estimator-doc-link:hover,\n",
              "div.sk-label-container:hover .sk-estimator-doc-link:hover,\n",
              ".sk-estimator-doc-link:hover {\n",
              "  /* unfitted */\n",
              "  background-color: var(--sklearn-color-unfitted-level-3);\n",
              "  color: var(--sklearn-color-background);\n",
              "  text-decoration: none;\n",
              "}\n",
              "\n",
              "div.sk-estimator.fitted:hover .sk-estimator-doc-link.fitted:hover,\n",
              ".sk-estimator-doc-link.fitted:hover,\n",
              "div.sk-label-container:hover .sk-estimator-doc-link.fitted:hover,\n",
              ".sk-estimator-doc-link.fitted:hover {\n",
              "  /* fitted */\n",
              "  background-color: var(--sklearn-color-fitted-level-3);\n",
              "  color: var(--sklearn-color-background);\n",
              "  text-decoration: none;\n",
              "}\n",
              "\n",
              "/* Span, style for the box shown on hovering the info icon */\n",
              ".sk-estimator-doc-link span {\n",
              "  display: none;\n",
              "  z-index: 9999;\n",
              "  position: relative;\n",
              "  font-weight: normal;\n",
              "  right: .2ex;\n",
              "  padding: .5ex;\n",
              "  margin: .5ex;\n",
              "  width: min-content;\n",
              "  min-width: 20ex;\n",
              "  max-width: 50ex;\n",
              "  color: var(--sklearn-color-text);\n",
              "  box-shadow: 2pt 2pt 4pt #999;\n",
              "  /* unfitted */\n",
              "  background: var(--sklearn-color-unfitted-level-0);\n",
              "  border: .5pt solid var(--sklearn-color-unfitted-level-3);\n",
              "}\n",
              "\n",
              ".sk-estimator-doc-link.fitted span {\n",
              "  /* fitted */\n",
              "  background: var(--sklearn-color-fitted-level-0);\n",
              "  border: var(--sklearn-color-fitted-level-3);\n",
              "}\n",
              "\n",
              ".sk-estimator-doc-link:hover span {\n",
              "  display: block;\n",
              "}\n",
              "\n",
              "/* \"?\"-specific style due to the `<a>` HTML tag */\n",
              "\n",
              "#sk-container-id-1 a.estimator_doc_link {\n",
              "  float: right;\n",
              "  font-size: 1rem;\n",
              "  line-height: 1em;\n",
              "  font-family: monospace;\n",
              "  background-color: var(--sklearn-color-background);\n",
              "  border-radius: 1rem;\n",
              "  height: 1rem;\n",
              "  width: 1rem;\n",
              "  text-decoration: none;\n",
              "  /* unfitted */\n",
              "  color: var(--sklearn-color-unfitted-level-1);\n",
              "  border: var(--sklearn-color-unfitted-level-1) 1pt solid;\n",
              "}\n",
              "\n",
              "#sk-container-id-1 a.estimator_doc_link.fitted {\n",
              "  /* fitted */\n",
              "  border: var(--sklearn-color-fitted-level-1) 1pt solid;\n",
              "  color: var(--sklearn-color-fitted-level-1);\n",
              "}\n",
              "\n",
              "/* On hover */\n",
              "#sk-container-id-1 a.estimator_doc_link:hover {\n",
              "  /* unfitted */\n",
              "  background-color: var(--sklearn-color-unfitted-level-3);\n",
              "  color: var(--sklearn-color-background);\n",
              "  text-decoration: none;\n",
              "}\n",
              "\n",
              "#sk-container-id-1 a.estimator_doc_link.fitted:hover {\n",
              "  /* fitted */\n",
              "  background-color: var(--sklearn-color-fitted-level-3);\n",
              "}\n",
              "</style><div id=\"sk-container-id-1\" class=\"sk-top-container\"><div class=\"sk-text-repr-fallback\"><pre>XGBClassifier(base_score=None, booster=None, callbacks=None,\n",
              "              colsample_bylevel=None, colsample_bynode=None,\n",
              "              colsample_bytree=None, device=None, early_stopping_rounds=50,\n",
              "              enable_categorical=False, eval_metric=None, feature_types=None,\n",
              "              feature_weights=None, gamma=None, grow_policy=None,\n",
              "              importance_type=None, interaction_constraints=None,\n",
              "              learning_rate=0.1, max_bin=None, max_cat_threshold=None,\n",
              "              max_cat_to_onehot=None, max_delta_step=None, max_depth=None,\n",
              "              max_leaves=None, min_child_weight=None, missing=nan,\n",
              "              monotone_constraints=None, multi_strategy=None, n_estimators=500,\n",
              "              n_jobs=None, num_parallel_tree=None, ...)</pre><b>In a Jupyter environment, please rerun this cell to show the HTML representation or trust the notebook. <br />On GitHub, the HTML representation is unable to render, please try loading this page with nbviewer.org.</b></div><div class=\"sk-container\" hidden><div class=\"sk-item\"><div class=\"sk-estimator fitted sk-toggleable\"><input class=\"sk-toggleable__control sk-hidden--visually\" id=\"sk-estimator-id-1\" type=\"checkbox\" checked><label for=\"sk-estimator-id-1\" class=\"sk-toggleable__label fitted sk-toggleable__label-arrow\"><div><div>XGBClassifier</div></div><div><a class=\"sk-estimator-doc-link fitted\" rel=\"noreferrer\" target=\"_blank\" href=\"https://xgboost.readthedocs.io/en/release_3.0.0/python/python_api.html#xgboost.XGBClassifier\">?<span>Documentation for XGBClassifier</span></a><span class=\"sk-estimator-doc-link fitted\">i<span>Fitted</span></span></div></label><div class=\"sk-toggleable__content fitted\"><pre>XGBClassifier(base_score=None, booster=None, callbacks=None,\n",
              "              colsample_bylevel=None, colsample_bynode=None,\n",
              "              colsample_bytree=None, device=None, early_stopping_rounds=50,\n",
              "              enable_categorical=False, eval_metric=None, feature_types=None,\n",
              "              feature_weights=None, gamma=None, grow_policy=None,\n",
              "              importance_type=None, interaction_constraints=None,\n",
              "              learning_rate=0.1, max_bin=None, max_cat_threshold=None,\n",
              "              max_cat_to_onehot=None, max_delta_step=None, max_depth=None,\n",
              "              max_leaves=None, min_child_weight=None, missing=nan,\n",
              "              monotone_constraints=None, multi_strategy=None, n_estimators=500,\n",
              "              n_jobs=None, num_parallel_tree=None, ...)</pre></div> </div></div></div></div>"
            ],
            "text/plain": [
              "XGBClassifier(base_score=None, booster=None, callbacks=None,\n",
              "              colsample_bylevel=None, colsample_bynode=None,\n",
              "              colsample_bytree=None, device=None, early_stopping_rounds=50,\n",
              "              enable_categorical=False, eval_metric=None, feature_types=None,\n",
              "              feature_weights=None, gamma=None, grow_policy=None,\n",
              "              importance_type=None, interaction_constraints=None,\n",
              "              learning_rate=0.1, max_bin=None, max_cat_threshold=None,\n",
              "              max_cat_to_onehot=None, max_delta_step=None, max_depth=None,\n",
              "              max_leaves=None, min_child_weight=None, missing=nan,\n",
              "              monotone_constraints=None, multi_strategy=None, n_estimators=500,\n",
              "              n_jobs=None, num_parallel_tree=None, ...)"
            ]
          },
          "execution_count": 27,
          "metadata": {},
          "output_type": "execute_result"
        }
      ],
      "source": [
        "xgb_model = XGBClassifier(\n",
        "    n_estimators=500,\n",
        "    learning_rate=0.1,\n",
        "    verbosity=1,\n",
        "    random_state=RANDOM_STATE,\n",
        "    early_stopping_rounds=50,\n",
        ")\n",
        "xgb_model.fit(X_train_fit, y_train_fit, eval_set=[(X_train_eval, y_train_eval)])\n",
        "# Here we must pass a list to the eval_set, because you can have several different tuples ov eval sets. The parameter\n",
        "# early_stopping_rounds is the number of iterations that it will wait to check if the cost function decreased or not.\n",
        "# If not, it will stop and get the iteration that returned the lowest metric on the eval set."
      ]
    },
    {
      "cell_type": "markdown",
      "id": "vcis0Xnhuug6",
      "metadata": {
        "id": "vcis0Xnhuug6"
      },
      "source": [
        "As you can see, even though you passed 500 estimators to fit, the algorithm only fitted 66 because the log-loss used to metrify the training rounds started to increase. In fact, the number of estimators is even less than 66. If you take a closeer look to the metrics, you see that with 16 fitted trees, we achieved the minimum value of the log-loss, and in fact, this is the number of fitted trees in the final model:"
      ]
    },
    {
      "cell_type": "code",
      "execution_count": 28,
      "id": "RVP8Zc8Duug6",
      "metadata": {
        "colab": {
          "base_uri": "https://localhost:8080/"
        },
        "id": "RVP8Zc8Duug6",
        "outputId": "7a38a384-fb63-4d5c-f46a-eb3db5097bb7"
      },
      "outputs": [
        {
          "data": {
            "text/plain": [
              "17"
            ]
          },
          "execution_count": 28,
          "metadata": {},
          "output_type": "execute_result"
        }
      ],
      "source": [
        "xgb_model.best_iteration"
      ]
    },
    {
      "cell_type": "code",
      "execution_count": 29,
      "id": "m2vFVekyuug6",
      "metadata": {
        "colab": {
          "base_uri": "https://localhost:8080/"
        },
        "id": "m2vFVekyuug6",
        "outputId": "f050be30-0568-403f-9b18-fa0692b93186"
      },
      "outputs": [
        {
          "name": "stdout",
          "output_type": "stream",
          "text": [
            "Metrics train:\n",
            "\tAccuracy score: 0.9319\n",
            "Metrics test:\n",
            "\tAccuracy score: 0.8533\n"
          ]
        }
      ],
      "source": [
        "print(f\"Metrics train:\\n\\tAccuracy score: {accuracy_score(xgb_model.predict(X_train),y_train):.4f}\\nMetrics test:\\n\\tAccuracy score: {accuracy_score(xgb_model.predict(X_test),y_test):.4f}\")"
      ]
    },
    {
      "cell_type": "markdown",
      "id": "5U_CJxf1uug6",
      "metadata": {
        "id": "5U_CJxf1uug6"
      },
      "source": [
        "You can see that RandomForest achieved the best accuracy, but the results overall were close. And note that we got a very close test metric with XGBoost compared to RandomForest, and we didn't even performed any hyperparameter search! The advantage of XGBoost is that it is faster than the Random Forest and also it has more parameters, therefore you are able to fine-tune the model to achieve even better results.\n",
        "\n",
        "\n",
        "Congratulations, you have learned how to use Decision Tree, Random Forest from the scikit-learn library and XGBoost!"
      ]
    },
    {
      "cell_type": "markdown",
      "id": "DdbTATzU2cy5",
      "metadata": {
        "id": "DdbTATzU2cy5"
      },
      "source": [
        "## ✅ Optimizing XGBoost for Heart Disease Prediction\n",
        "\n",
        "Improve the performance of an XGBoost model for heart disease prediction by tuning its hyperparameters using Grid Search with cross-validation."
      ]
    },
    {
      "cell_type": "code",
      "execution_count": 30,
      "id": "bk2aPcnM2CKm",
      "metadata": {
        "id": "bk2aPcnM2CKm"
      },
      "outputs": [
        {
          "name": "stdout",
          "output_type": "stream",
          "text": [
            "Fitting 5 folds for each of 108 candidates, totalling 540 fits\n",
            "Best Parameters: {'colsample_bytree': 0.8, 'learning_rate': 0.1, 'max_depth': 5, 'n_estimators': 150, 'subsample': 1}\n",
            "Accuracy: 0.8858695652173914\n",
            "              precision    recall  f1-score   support\n",
            "\n",
            "           0       0.85      0.90      0.87        81\n",
            "           1       0.92      0.87      0.90       103\n",
            "\n",
            "    accuracy                           0.89       184\n",
            "   macro avg       0.88      0.89      0.88       184\n",
            "weighted avg       0.89      0.89      0.89       184\n",
            "\n"
          ]
        },
        {
          "name": "stderr",
          "output_type": "stream",
          "text": [
            "e:\\Users\\Documents\\Maestria\\Semana_3_AS\\venv\\Lib\\site-packages\\xgboost\\training.py:183: UserWarning: [15:47:18] WARNING: C:\\actions-runner\\_work\\xgboost\\xgboost\\src\\learner.cc:738: \n",
            "Parameters: { \"use_label_encoder\" } are not used.\n",
            "\n",
            "  bst.update(dtrain, iteration=i, fobj=obj)\n"
          ]
        }
      ],
      "source": [
        "# here your code\n",
        "import xgboost as xgb\n",
        "from sklearn.model_selection import GridSearchCV\n",
        "from sklearn.metrics import accuracy_score, classification_report\n",
        "xgb_model = xgb.XGBClassifier(\n",
        "    use_label_encoder=False,\n",
        "    eval_metric='logloss',\n",
        "    random_state=42\n",
        ")\n",
        "\n",
        "# Parameter grid for tuning\n",
        "param_grid = {\n",
        "    'n_estimators': [50, 100, 150],\n",
        "    'max_depth': [3, 5, 7],\n",
        "    'learning_rate': [0.01, 0.1, 0.2],\n",
        "    'subsample': [0.8, 1],\n",
        "    'colsample_bytree': [0.8, 1]\n",
        "}\n",
        "\n",
        "grid_search = GridSearchCV(\n",
        "    estimator=xgb_model,\n",
        "    param_grid=param_grid,\n",
        "    scoring='accuracy',\n",
        "    cv=5,\n",
        "    verbose=1,\n",
        "    n_jobs=-1\n",
        ")\n",
        "\n",
        "grid_search.fit(X_train, y_train)\n",
        "\n",
        "# Best parameters and estimator\n",
        "print(\"Best Parameters:\", grid_search.best_params_)\n",
        "\n",
        "best_model = grid_search.best_estimator_\n",
        "\n",
        "# Predict on test set\n",
        "y_pred = best_model.predict(X_test)\n",
        "\n",
        "# Performance metrics\n",
        "print(\"Accuracy:\", accuracy_score(y_test, y_pred))\n",
        "print(classification_report(y_test, y_pred))\n",
        "\n"
      ]
    },
    {
      "cell_type": "code",
      "execution_count": 31,
      "id": "ad42eeb3",
      "metadata": {},
      "outputs": [
        {
          "data": {
            "image/png": "[encoded data removed]",
            "text/plain": [
              "<Figure size 800x600 with 2 Axes>"
            ]
          },
          "metadata": {},
          "output_type": "display_data"
        }
      ],
      "source": [
        "import pandas as pd\n",
        "import seaborn as sns\n",
        "import matplotlib.pyplot as plt\n",
        "\n",
        "# Convert grid results to DataFrame\n",
        "results = pd.DataFrame(grid_search.cv_results_)\n",
        "\n",
        "# Create pivot table\n",
        "heatmap_data = results.pivot_table(\n",
        "    index='param_max_depth',\n",
        "    columns='param_n_estimators',\n",
        "    values='mean_test_score'\n",
        ")\n",
        "\n",
        "# Plot\n",
        "plt.figure(figsize=(8, 6))\n",
        "sns.heatmap(heatmap_data, annot=True, fmt=\".3f\", cmap=\"YlOrRd\")\n",
        "plt.title(\"Accuracy Heatmap: max_depth vs n_estimators\")\n",
        "plt.xlabel(\"n_estimators\")\n",
        "plt.ylabel(\"max_depth\")\n",
        "plt.tight_layout()\n",
        "plt.show()\n"
      ]
    },
    {
      "cell_type": "markdown",
      "id": "fnB7Bmzl4WsV",
      "metadata": {
        "id": "fnB7Bmzl4WsV"
      },
      "source": [
        "# ✅ Building a Stacked Ensemble for Heart Disease Prediction\n",
        "\n",
        " Build a stacked ensemble model for heart disease prediction using KNN, Logistic Regression, and SVM as base learners, optimize their hyperparameters, and evaluate the ensemble's performance using Logistic Regression as the meta-learner."
      ]
    },
    {
      "cell_type": "code",
      "execution_count": 32,
      "id": "nZNMJael3aJC",
      "metadata": {
        "id": "nZNMJael3aJC"
      },
      "outputs": [
        {
          "name": "stderr",
          "output_type": "stream",
          "text": [
            "e:\\Users\\Documents\\Maestria\\Semana_3_AS\\venv\\Lib\\site-packages\\sklearn\\linear_model\\_logistic.py:465: ConvergenceWarning: lbfgs failed to converge (status=1):\n",
            "STOP: TOTAL NO. OF ITERATIONS REACHED LIMIT.\n",
            "\n",
            "Increase the number of iterations (max_iter) or scale the data as shown in:\n",
            "    https://scikit-learn.org/stable/modules/preprocessing.html\n",
            "Please also refer to the documentation for alternative solver options:\n",
            "    https://scikit-learn.org/stable/modules/linear_model.html#logistic-regression\n",
            "  n_iter_i = _check_optimize_result(\n"
          ]
        },
        {
          "name": "stdout",
          "output_type": "stream",
          "text": [
            "Accuracy of Stacked Ensemble: 0.8586956521739131\n",
            "              precision    recall  f1-score   support\n",
            "\n",
            "           0       0.84      0.84      0.84        81\n",
            "           1       0.87      0.87      0.87       103\n",
            "\n",
            "    accuracy                           0.86       184\n",
            "   macro avg       0.86      0.86      0.86       184\n",
            "weighted avg       0.86      0.86      0.86       184\n",
            "\n"
          ]
        }
      ],
      "source": [
        "#here your code\n",
        "from sklearn.model_selection import train_test_split, GridSearchCV\n",
        "from sklearn.neighbors import KNeighborsClassifier\n",
        "from sklearn.linear_model import LogisticRegression\n",
        "from sklearn.svm import SVC\n",
        "from sklearn.ensemble import StackingClassifier\n",
        "from sklearn.metrics import accuracy_score, classification_report\n",
        "import numpy as np\n",
        "knn_grid = GridSearchCV(\n",
        "    KNeighborsClassifier(),\n",
        "    param_grid={'n_neighbors': [3, 5, 7, 10]},\n",
        "    cv=5,\n",
        "    n_jobs=-1\n",
        ")\n",
        "knn_grid.fit(X_train, y_train)\n",
        "lr_grid = GridSearchCV(\n",
        "    LogisticRegression(max_iter=1000),\n",
        "    param_grid={'C': [0.1, 1, 10]},\n",
        "    cv=5,\n",
        "    n_jobs=-1\n",
        ")\n",
        "lr_grid.fit(X_train, y_train)\n",
        "svm_grid = GridSearchCV(\n",
        "    SVC(probability=True),\n",
        "    param_grid={'C': [0.1, 1, 10], 'kernel': ['linear', 'rbf']},\n",
        "    cv=5,\n",
        "    n_jobs=-1\n",
        ")\n",
        "svm_grid.fit(X_train, y_train)\n",
        "\n",
        "# Define the base learners\n",
        "base_learners = [\n",
        "    ('knn', knn_grid.best_estimator_),\n",
        "    ('lr', lr_grid.best_estimator_),\n",
        "    ('svm', svm_grid.best_estimator_)\n",
        "]\n",
        "\n",
        "# Meta-learner (Logistic Regression)\n",
        "meta_learner = LogisticRegression()\n",
        "\n",
        "# Create the stacked model\n",
        "stacked_model = StackingClassifier(\n",
        "    estimators=base_learners,\n",
        "    final_estimator=meta_learner,\n",
        "    cv=5,\n",
        "    n_jobs=-1\n",
        ")\n",
        "\n",
        "# Train the stacked model\n",
        "stacked_model.fit(X_train, y_train)\n",
        "# Predict using the stacked model\n",
        "y_pred = stacked_model.predict(X_test)\n",
        "\n",
        "# Evaluate performance\n",
        "print(\"Accuracy of Stacked Ensemble:\", accuracy_score(y_test, y_pred))\n",
        "print(classification_report(y_test, y_pred))\n",
        "\n",
        "\n",
        "\n"
      ]
    },
    {
      "cell_type": "code",
      "execution_count": 33,
      "id": "bfa95196",
      "metadata": {},
      "outputs": [
        {
          "data": {
            "image/png": "[encoded data removed]",
            "text/plain": [
              "<Figure size 640x480 with 2 Axes>"
            ]
          },
          "metadata": {},
          "output_type": "display_data"
        }
      ],
      "source": [
        "from sklearn.metrics import ConfusionMatrixDisplay\n",
        "import matplotlib.pyplot as plt\n",
        "\n",
        "# Plot confusion matrix\n",
        "ConfusionMatrixDisplay.from_estimator(stacked_model, X_test, y_test, cmap='Blues')\n",
        "plt.title(\"Confusion Matrix - Stacked Model\")\n",
        "plt.show()\n"
      ]
    },
    {
      "cell_type": "markdown",
      "id": "iOuvGsZoLVoR",
      "metadata": {
        "id": "iOuvGsZoLVoR"
      },
      "source": [
        "# ✅ Activity: Building a Weighted Ensemble for Heart Disease Prediction\n",
        "\n",
        "In this activity, you will build an ensemble model for heart disease prediction using an MLP (Multilayer Perceptron) and a KNN (K-Nearest Neighbors) as base learners. You will optimize both base learners using Grid Search and then combine their predictions using a weighted average,  with 0.75 weight for the MLP and 0.25 weight for the KNN. **For simplicity, use the MLPClassifier class from sklearn.**\n",
        "\n",
        "What is the role of the weights in the weighted average prediction?\n",
        "\n",
        "Experiment with different weight values and observe their impact on the ensemble's accuracy.\n",
        "\n",
        "What are the key differences between the weighted ensemble approach used in this activity and the stacked learner approach used in the previous activity?\n",
        "\n"
      ]
    },
    {
      "cell_type": "code",
      "execution_count": 34,
      "id": "gEJ6yLLDJlvI",
      "metadata": {
        "id": "gEJ6yLLDJlvI"
      },
      "outputs": [
        {
          "name": "stdout",
          "output_type": "stream",
          "text": [
            "Accuracy (Weighted Ensemble): 0.8478260869565217\n",
            "              precision    recall  f1-score   support\n",
            "\n",
            "           0       0.84      0.80      0.82        81\n",
            "           1       0.85      0.88      0.87       103\n",
            "\n",
            "    accuracy                           0.85       184\n",
            "   macro avg       0.85      0.84      0.84       184\n",
            "weighted avg       0.85      0.85      0.85       184\n",
            "\n"
          ]
        }
      ],
      "source": [
        "# here your code\n",
        "from sklearn.model_selection import train_test_split, GridSearchCV\n",
        "from sklearn.neural_network import MLPClassifier\n",
        "from sklearn.neighbors import KNeighborsClassifier\n",
        "from sklearn.metrics import accuracy_score, classification_report\n",
        "import numpy as np\n",
        "import matplotlib.pyplot as plt\n",
        "mlp_params = {\n",
        "    'hidden_layer_sizes': [(50,), (100,)],\n",
        "    'activation': ['relu', 'tanh'],\n",
        "    'alpha': [0.0001, 0.001]\n",
        "}\n",
        "\n",
        "mlp_grid = GridSearchCV(\n",
        "    MLPClassifier(max_iter=1000, random_state=42),\n",
        "    param_grid=mlp_params,\n",
        "    cv=5,\n",
        "    n_jobs=-1\n",
        ")\n",
        "mlp_grid.fit(X_train, y_train)\n",
        "\n",
        "knn_params = {\n",
        "    'n_neighbors': [3, 5, 7]\n",
        "}\n",
        "\n",
        "knn_grid = GridSearchCV(\n",
        "    KNeighborsClassifier(),\n",
        "    param_grid=knn_params,\n",
        "    cv=5,\n",
        "    n_jobs=-1\n",
        ")\n",
        "knn_grid.fit(X_train, y_train)\n",
        "\n",
        "# Get predicted probabilities\n",
        "mlp_proba = mlp_grid.best_estimator_.predict_proba(X_test)\n",
        "knn_proba = knn_grid.best_estimator_.predict_proba(X_test)\n",
        "\n",
        "# Weighted average: 0.75 MLP, 0.25 KNN\n",
        "weight_mlp = 0.75\n",
        "weight_knn = 0.25\n",
        "\n",
        "ensemble_proba = (weight_mlp * mlp_proba) + (weight_knn * knn_proba)\n",
        "ensemble_preds = np.argmax(ensemble_proba, axis=1)\n",
        "\n",
        "# Evaluate\n",
        "print(\"Accuracy (Weighted Ensemble):\", accuracy_score(y_test, ensemble_preds))\n",
        "print(classification_report(y_test, ensemble_preds))\n",
        "\n"
      ]
    },
    {
      "cell_type": "code",
      "execution_count": 35,
      "id": "cd8a4c8e",
      "metadata": {},
      "outputs": [
        {
          "data": {
            "image/png": "[encoded data removed]",
            "text/plain": [
              "<Figure size 640x480 with 1 Axes>"
            ]
          },
          "metadata": {},
          "output_type": "display_data"
        }
      ],
      "source": [
        "weights = np.linspace(0, 1, 11)\n",
        "accuracies = []\n",
        "\n",
        "for w in weights:\n",
        "    ensemble_proba = (w * mlp_proba) + ((1 - w) * knn_proba)\n",
        "    ensemble_preds = np.argmax(ensemble_proba, axis=1)\n",
        "    acc = accuracy_score(y_test, ensemble_preds)\n",
        "    accuracies.append(acc)\n",
        "\n",
        "# Plot\n",
        "plt.plot(weights, accuracies, marker='o')\n",
        "plt.title('Ensemble Accuracy vs MLP Weight')\n",
        "plt.xlabel('MLP Weight (KNN weight = 1 - MLP weight)')\n",
        "plt.ylabel('Accuracy')\n",
        "plt.grid(True)\n",
        "plt.show()\n"
      ]
    },
    {
      "cell_type": "markdown",
      "id": "srfyqlfu7FNP",
      "metadata": {
        "id": "srfyqlfu7FNP"
      },
      "source": [
        "# ✅ Auto Machine Learning (AutoML) using AutoGluon\n",
        "\n",
        "**What is AutoML?**\n",
        "\n",
        "AutoML, short for Automated Machine Learning, is a rapidly evolving field aiming to automate the process of developing machine learning models. Traditionally, building a model involves manual steps like data preprocessing, feature engineering, model selection, hyperparameter tuning, and evaluation, requiring significant expertise and time.\n",
        "AutoML simplifies this by automating these tasks, making machine learning more accessible to users with limited experience. AutoML tools use advanced algorithms and techniques to automatically explore different model architectures and hyperparameter settings, finding the best model for a given dataset and task.\n",
        "\n",
        "**Benefits of AutoML:**\n",
        "\n",
        "**Increased efficiency**: AutoML reduces the time and effort required to build models, freeing up data scientists for other tasks.\n",
        "\n",
        "**Improved performance:** By exploring a wider range of models and hyperparameters, AutoML can often find better-performing models.\n",
        "\n",
        "**Accessibility:** AutoML makes machine learning more accessible to users with less expertise.\n",
        "\n",
        "**Reduced human bias:** AutoML can help reduce bias by objectively evaluating and selecting models based on performance metrics.\n",
        "\n",
        "**Criticisms of AutoML:**\n",
        "\n",
        "Despite its advantages, AutoML also faces some criticisms:\n",
        "\n",
        "**Black Box Nature:** AutoML tools can be opaque, making it difficult to understand why a particular model was chosen or how it works. This lack of transparency can be a concern, especially in sensitive applications.\n",
        "\n",
        "**Limited Customization:** AutoML may not always offer the flexibility to incorporate domain expertise or customize the model building process to the specific needs of a problem.\n",
        "\n",
        "**Computational Cost: **AutoML can be computationally expensive, requiring significant resources to explore a large search space of models and hyperparameters.\n",
        "\n",
        "**Data Dependency:** The success of AutoML heavily relies on the quality and quantity of data. If the data is noisy, incomplete, or biased, AutoML may not produce reliable results.\n",
        "\n",
        "**Applications of AutoML:**\n",
        "Despite the criticisms, AutoML is being applied across various domains, including image classification, natural language processing, tabular data prediction, and time series forecasting.\n",
        "\n",
        "In essence, AutoML aims to democratize AI by making machine learning more efficient and accessible. However, it's important to be aware of its limitations and use it judiciously, combining its power with human expertise for optimal results.\n",
        "\n",
        "**Activity:**\n",
        "\n",
        "In this activity, you will leverage AutoML to predict heart disease using the provided dataset. Explore the AutoML library AutoGluon to automate the model building process, including data preprocessing, model selection, and hyperparameter tuning. Evaluate the performance of the AutoML-generated model on a held-out test set\n",
        "\n",
        "How does AutoGluon simplify the model building process compared to traditional machine learning workflows?\n",
        "\n",
        "What insights can you gain from the evaluation metrics and the best model identified by AutoGluon?\n",
        "\n",
        "How do the results from AutoGluon compare to the results you obtained with previous models (e.g., the weighted ensemble)?\n"
      ]
    },
    {
      "cell_type": "code",
      "execution_count": 36,
      "id": "00tH7GrLTfrt",
      "metadata": {
        "colab": {
          "base_uri": "https://localhost:8080/"
        },
        "id": "00tH7GrLTfrt",
        "outputId": "bfd1bbb7-6bfb-4a28-bd7a-f32fcef329b6"
      },
      "outputs": [
        {
          "name": "stderr",
          "output_type": "stream",
          "text": [
            "\n",
            "[notice] A new release of pip is available: 24.0 -> 25.1.1\n",
            "[notice] To update, run: python.exe -m pip install --upgrade pip\n"
          ]
        }
      ],
      "source": [
        "! pip install autogluon.tabular --quiet"
      ]
    },
    {
      "cell_type": "code",
      "execution_count": 37,
      "id": "oNaLNSEr5UyY",
      "metadata": {
        "id": "oNaLNSEr5UyY"
      },
      "outputs": [
        {
          "name": "stderr",
          "output_type": "stream",
          "text": [
            "e:\\Users\\Documents\\Maestria\\Semana_3_AS\\venv\\Lib\\site-packages\\tqdm\\auto.py:21: TqdmWarning: IProgress not found. Please update jupyter and ipywidgets. See https://ipywidgets.readthedocs.io/en/stable/user_install.html\n",
            "  from .autonotebook import tqdm as notebook_tqdm\n"
          ]
        }
      ],
      "source": [
        "import pandas as pd\n",
        "from autogluon.tabular import TabularPredictor\n",
        "from sklearn.model_selection import train_test_split\n",
        "\n",
        "# Load your dataset\n",
        "# Example: df = pd.read_csv(\"heart.csv\")\n",
        "\n",
        "# Split data\n",
        "train_data, test_data = train_test_split(df, test_size=0.2, random_state=42)\n",
        "\n",
        "# Define the label (target column)\n",
        "label = 'target'  # Adjust to your dataset\n"
      ]
    },
    {
      "cell_type": "code",
      "execution_count": 38,
      "id": "3d1207f4",
      "metadata": {},
      "outputs": [
        {
          "name": "stderr",
          "output_type": "stream",
          "text": [
            "No path specified. Models will be saved in: \"AutogluonModels\\ag-20250507_205204\"\n",
            "Verbosity: 2 (Standard Logging)\n",
            "=================== System Info ===================\n",
            "AutoGluon Version:  1.3.0\n",
            "Python Version:     3.11.9\n",
            "Operating System:   Windows\n",
            "Platform Machine:   AMD64\n",
            "Platform Version:   10.0.26100\n",
            "CPU Count:          16\n",
            "Memory Avail:       16.02 GB / 31.80 GB (50.4%)\n",
            "Disk Space Avail:   451.42 GB / 886.45 GB (50.9%)\n",
            "===================================================\n",
            "No presets specified! To achieve strong results with AutoGluon, it is recommended to use the available presets. Defaulting to `'medium'`...\n",
            "\tRecommended Presets (For more details refer to https://auto.gluon.ai/stable/tutorials/tabular/tabular-essentials.html#presets):\n",
            "\tpresets='experimental' : New in v1.2: Pre-trained foundation model + parallel fits. The absolute best accuracy without consideration for inference speed. Does not support GPU.\n",
            "\tpresets='best'         : Maximize accuracy. Recommended for most users. Use in competitions and benchmarks.\n",
            "\tpresets='high'         : Strong accuracy with fast inference speed.\n",
            "\tpresets='good'         : Good accuracy with very fast inference speed.\n",
            "\tpresets='medium'       : Fast training time, ideal for initial prototyping.\n"
          ]
        },
        {
          "ename": "KeyError",
          "evalue": "\"Label column 'target' is missing from training data. Training data columns: ['Age', 'RestingBP', 'Cholesterol', 'FastingBS', 'MaxHR', 'Oldpeak', 'HeartDisease', 'Sex_F', 'Sex_M', 'ChestPainType_ASY', 'ChestPainType_ATA', 'ChestPainType_NAP', 'ChestPainType_TA', 'RestingECG_LVH', 'RestingECG_Normal', 'RestingECG_ST', 'ExerciseAngina_N', 'ExerciseAngina_Y', 'ST_Slope_Down', 'ST_Slope_Flat', 'ST_Slope_Up']\"",
          "output_type": "error",
          "traceback": [
            "\u001b[31m---------------------------------------------------------------------------\u001b[39m",
            "\u001b[31mKeyError\u001b[39m                                  Traceback (most recent call last)",
            "\u001b[36mCell\u001b[39m\u001b[36m \u001b[39m\u001b[32mIn[38]\u001b[39m\u001b[32m, line 1\u001b[39m\n\u001b[32m----> \u001b[39m\u001b[32m1\u001b[39m predictor = \u001b[43mTabularPredictor\u001b[49m\u001b[43m(\u001b[49m\u001b[43mlabel\u001b[49m\u001b[43m=\u001b[49m\u001b[43mlabel\u001b[49m\u001b[43m,\u001b[49m\u001b[43m \u001b[49m\u001b[43meval_metric\u001b[49m\u001b[43m=\u001b[49m\u001b[33;43m'\u001b[39;49m\u001b[33;43maccuracy\u001b[39;49m\u001b[33;43m'\u001b[39;49m\u001b[43m)\u001b[49m\u001b[43m.\u001b[49m\u001b[43mfit\u001b[49m\u001b[43m(\u001b[49m\u001b[43mtrain_data\u001b[49m\u001b[43m)\u001b[49m\n\u001b[32m      3\u001b[39m performance = predictor.evaluate(test_data)\n\u001b[32m      4\u001b[39m \u001b[38;5;28mprint\u001b[39m(performance)\n",
            "\u001b[36mFile \u001b[39m\u001b[32me:\\Users\\Documents\\Maestria\\Semana_3_AS\\venv\\Lib\\site-packages\\autogluon\\core\\utils\\decorators.py:31\u001b[39m, in \u001b[36munpack.<locals>._unpack_inner.<locals>._call\u001b[39m\u001b[34m(*args, **kwargs)\u001b[39m\n\u001b[32m     28\u001b[39m \u001b[38;5;129m@functools\u001b[39m.wraps(f)\n\u001b[32m     29\u001b[39m \u001b[38;5;28;01mdef\u001b[39;00m\u001b[38;5;250m \u001b[39m\u001b[34m_call\u001b[39m(*args, **kwargs):\n\u001b[32m     30\u001b[39m     gargs, gkwargs = g(*other_args, *args, **kwargs)\n\u001b[32m---> \u001b[39m\u001b[32m31\u001b[39m     \u001b[38;5;28;01mreturn\u001b[39;00m \u001b[43mf\u001b[49m\u001b[43m(\u001b[49m\u001b[43m*\u001b[49m\u001b[43mgargs\u001b[49m\u001b[43m,\u001b[49m\u001b[43m \u001b[49m\u001b[43m*\u001b[49m\u001b[43m*\u001b[49m\u001b[43mgkwargs\u001b[49m\u001b[43m)\u001b[49m\n",
            "\u001b[36mFile \u001b[39m\u001b[32me:\\Users\\Documents\\Maestria\\Semana_3_AS\\venv\\Lib\\site-packages\\autogluon\\tabular\\predictor\\predictor.py:1146\u001b[39m, in \u001b[36mTabularPredictor.fit\u001b[39m\u001b[34m(self, train_data, tuning_data, time_limit, presets, hyperparameters, feature_metadata, infer_limit, infer_limit_batch_size, fit_weighted_ensemble, fit_full_last_level_weighted_ensemble, full_weighted_ensemble_additionally, dynamic_stacking, calibrate_decision_threshold, num_cpus, num_gpus, fit_strategy, memory_limit, callbacks, **kwargs)\u001b[39m\n\u001b[32m   1144\u001b[39m     inferred_problem_type = \u001b[38;5;28mself\u001b[39m.problem_type\n\u001b[32m   1145\u001b[39m \u001b[38;5;28;01melse\u001b[39;00m:\n\u001b[32m-> \u001b[39m\u001b[32m1146\u001b[39m     \u001b[38;5;28;43mself\u001b[39;49m\u001b[43m.\u001b[49m\u001b[43m_learner\u001b[49m\u001b[43m.\u001b[49m\u001b[43mvalidate_label\u001b[49m\u001b[43m(\u001b[49m\u001b[43mX\u001b[49m\u001b[43m=\u001b[49m\u001b[43mtrain_data\u001b[49m\u001b[43m)\u001b[49m\n\u001b[32m   1147\u001b[39m     inferred_problem_type = \u001b[38;5;28mself\u001b[39m._learner.infer_problem_type(y=train_data[\u001b[38;5;28mself\u001b[39m.label], silent=\u001b[38;5;28;01mTrue\u001b[39;00m)\n\u001b[32m   1149\u001b[39m learning_curves = \u001b[38;5;28mself\u001b[39m._initialize_learning_curve_params(learning_curves=learning_curves, problem_type=inferred_problem_type)\n",
            "\u001b[36mFile \u001b[39m\u001b[32me:\\Users\\Documents\\Maestria\\Semana_3_AS\\venv\\Lib\\site-packages\\autogluon\\tabular\\learner\\abstract_learner.py:401\u001b[39m, in \u001b[36mAbstractTabularLearner.validate_label\u001b[39m\u001b[34m(self, X)\u001b[39m\n\u001b[32m    397\u001b[39m \u001b[38;5;250m\u001b[39m\u001b[33;03m\"\"\"\u001b[39;00m\n\u001b[32m    398\u001b[39m \u001b[33;03mEnsure that the label column is present in the training data\u001b[39;00m\n\u001b[32m    399\u001b[39m \u001b[33;03m\"\"\"\u001b[39;00m\n\u001b[32m    400\u001b[39m \u001b[38;5;28;01mif\u001b[39;00m \u001b[38;5;28mself\u001b[39m.label \u001b[38;5;129;01mnot\u001b[39;00m \u001b[38;5;129;01min\u001b[39;00m X.columns:\n\u001b[32m--> \u001b[39m\u001b[32m401\u001b[39m     \u001b[38;5;28;01mraise\u001b[39;00m \u001b[38;5;167;01mKeyError\u001b[39;00m(\u001b[33mf\u001b[39m\u001b[33m\"\u001b[39m\u001b[33mLabel column \u001b[39m\u001b[33m'\u001b[39m\u001b[38;5;132;01m{\u001b[39;00m\u001b[38;5;28mself\u001b[39m.label\u001b[38;5;132;01m}\u001b[39;00m\u001b[33m'\u001b[39m\u001b[33m is missing from training data. Training data columns: \u001b[39m\u001b[38;5;132;01m{\u001b[39;00m\u001b[38;5;28mlist\u001b[39m(X.columns)\u001b[38;5;132;01m}\u001b[39;00m\u001b[33m\"\u001b[39m)\n",
            "\u001b[31mKeyError\u001b[39m: \"Label column 'target' is missing from training data. Training data columns: ['Age', 'RestingBP', 'Cholesterol', 'FastingBS', 'MaxHR', 'Oldpeak', 'HeartDisease', 'Sex_F', 'Sex_M', 'ChestPainType_ASY', 'ChestPainType_ATA', 'ChestPainType_NAP', 'ChestPainType_TA', 'RestingECG_LVH', 'RestingECG_Normal', 'RestingECG_ST', 'ExerciseAngina_N', 'ExerciseAngina_Y', 'ST_Slope_Down', 'ST_Slope_Flat', 'ST_Slope_Up']\""
          ]
        }
      ],
      "source": [
        "predictor = TabularPredictor(label=label, eval_metric='accuracy').fit(train_data)\n",
        "\n",
        "performance = predictor.evaluate(test_data)\n",
        "print(performance)\n",
        "\n",
        "predictor.leaderboard(test_data, silent=True)\n"
      ]
    }
  ],
  "metadata": {
    "colab": {
      "provenance": [],
      "toc_visible": true
    },
    "kernelspec": {
      "display_name": "venv",
      "language": "python",
      "name": "python3"
    },
    "language_info": {
      "codemirror_mode": {
        "name": "ipython",
        "version": 3
      },
      "file_extension": ".py",
      "mimetype": "text/x-python",
      "name": "python",
      "nbconvert_exporter": "python",
      "pygments_lexer": "ipython3",
      "version": "3.11.9"
    }
  },
  "nbformat": 4,
  "nbformat_minor": 5
}
